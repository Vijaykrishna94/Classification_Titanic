{
 "cells": [
  {
   "cell_type": "markdown",
   "metadata": {},
   "source": [
    "# Titanic Survival Prediction"
   ]
  },
  {
   "cell_type": "markdown",
   "metadata": {},
   "source": [
    "## Importing "
   ]
  },
  {
   "cell_type": "code",
   "execution_count": 1,
   "metadata": {},
   "outputs": [],
   "source": [
    "# Importing Libraries\n",
    "import numpy as np\n",
    "import pandas as pd\n",
    "import matplotlib.pyplot as plt\n",
    "import seaborn as sns"
   ]
  },
  {
   "cell_type": "markdown",
   "metadata": {},
   "source": [
    "### Importing DataSet"
   ]
  },
  {
   "cell_type": "code",
   "execution_count": 2,
   "metadata": {},
   "outputs": [],
   "source": [
    "df_train = pd.read_csv(r'C:\\Users\\Vijay Krishna\\Desktop\\ML\\Kaggle\\Classification\\Titanic\\train.csv')\n",
    "df_test = pd.read_csv(r'C:\\Users\\Vijay Krishna\\Desktop\\ML\\Kaggle\\Classification\\Titanic\\test.csv')"
   ]
  },
  {
   "cell_type": "markdown",
   "metadata": {},
   "source": [
    "## Exploratory Data Analysis"
   ]
  },
  {
   "cell_type": "code",
   "execution_count": 3,
   "metadata": {},
   "outputs": [
    {
     "data": {
      "text/html": [
       "<div>\n",
       "<style scoped>\n",
       "    .dataframe tbody tr th:only-of-type {\n",
       "        vertical-align: middle;\n",
       "    }\n",
       "\n",
       "    .dataframe tbody tr th {\n",
       "        vertical-align: top;\n",
       "    }\n",
       "\n",
       "    .dataframe thead th {\n",
       "        text-align: right;\n",
       "    }\n",
       "</style>\n",
       "<table border=\"1\" class=\"dataframe\">\n",
       "  <thead>\n",
       "    <tr style=\"text-align: right;\">\n",
       "      <th></th>\n",
       "      <th>PassengerId</th>\n",
       "      <th>Survived</th>\n",
       "      <th>Pclass</th>\n",
       "      <th>Name</th>\n",
       "      <th>Sex</th>\n",
       "      <th>Age</th>\n",
       "      <th>SibSp</th>\n",
       "      <th>Parch</th>\n",
       "      <th>Ticket</th>\n",
       "      <th>Fare</th>\n",
       "      <th>Cabin</th>\n",
       "      <th>Embarked</th>\n",
       "    </tr>\n",
       "  </thead>\n",
       "  <tbody>\n",
       "    <tr>\n",
       "      <td>0</td>\n",
       "      <td>1</td>\n",
       "      <td>0</td>\n",
       "      <td>3</td>\n",
       "      <td>Braund, Mr. Owen Harris</td>\n",
       "      <td>male</td>\n",
       "      <td>22.0</td>\n",
       "      <td>1</td>\n",
       "      <td>0</td>\n",
       "      <td>A/5 21171</td>\n",
       "      <td>7.2500</td>\n",
       "      <td>NaN</td>\n",
       "      <td>S</td>\n",
       "    </tr>\n",
       "    <tr>\n",
       "      <td>1</td>\n",
       "      <td>2</td>\n",
       "      <td>1</td>\n",
       "      <td>1</td>\n",
       "      <td>Cumings, Mrs. John Bradley (Florence Briggs Th...</td>\n",
       "      <td>female</td>\n",
       "      <td>38.0</td>\n",
       "      <td>1</td>\n",
       "      <td>0</td>\n",
       "      <td>PC 17599</td>\n",
       "      <td>71.2833</td>\n",
       "      <td>C85</td>\n",
       "      <td>C</td>\n",
       "    </tr>\n",
       "    <tr>\n",
       "      <td>2</td>\n",
       "      <td>3</td>\n",
       "      <td>1</td>\n",
       "      <td>3</td>\n",
       "      <td>Heikkinen, Miss. Laina</td>\n",
       "      <td>female</td>\n",
       "      <td>26.0</td>\n",
       "      <td>0</td>\n",
       "      <td>0</td>\n",
       "      <td>STON/O2. 3101282</td>\n",
       "      <td>7.9250</td>\n",
       "      <td>NaN</td>\n",
       "      <td>S</td>\n",
       "    </tr>\n",
       "    <tr>\n",
       "      <td>3</td>\n",
       "      <td>4</td>\n",
       "      <td>1</td>\n",
       "      <td>1</td>\n",
       "      <td>Futrelle, Mrs. Jacques Heath (Lily May Peel)</td>\n",
       "      <td>female</td>\n",
       "      <td>35.0</td>\n",
       "      <td>1</td>\n",
       "      <td>0</td>\n",
       "      <td>113803</td>\n",
       "      <td>53.1000</td>\n",
       "      <td>C123</td>\n",
       "      <td>S</td>\n",
       "    </tr>\n",
       "    <tr>\n",
       "      <td>4</td>\n",
       "      <td>5</td>\n",
       "      <td>0</td>\n",
       "      <td>3</td>\n",
       "      <td>Allen, Mr. William Henry</td>\n",
       "      <td>male</td>\n",
       "      <td>35.0</td>\n",
       "      <td>0</td>\n",
       "      <td>0</td>\n",
       "      <td>373450</td>\n",
       "      <td>8.0500</td>\n",
       "      <td>NaN</td>\n",
       "      <td>S</td>\n",
       "    </tr>\n",
       "    <tr>\n",
       "      <td>5</td>\n",
       "      <td>6</td>\n",
       "      <td>0</td>\n",
       "      <td>3</td>\n",
       "      <td>Moran, Mr. James</td>\n",
       "      <td>male</td>\n",
       "      <td>NaN</td>\n",
       "      <td>0</td>\n",
       "      <td>0</td>\n",
       "      <td>330877</td>\n",
       "      <td>8.4583</td>\n",
       "      <td>NaN</td>\n",
       "      <td>Q</td>\n",
       "    </tr>\n",
       "    <tr>\n",
       "      <td>6</td>\n",
       "      <td>7</td>\n",
       "      <td>0</td>\n",
       "      <td>1</td>\n",
       "      <td>McCarthy, Mr. Timothy J</td>\n",
       "      <td>male</td>\n",
       "      <td>54.0</td>\n",
       "      <td>0</td>\n",
       "      <td>0</td>\n",
       "      <td>17463</td>\n",
       "      <td>51.8625</td>\n",
       "      <td>E46</td>\n",
       "      <td>S</td>\n",
       "    </tr>\n",
       "    <tr>\n",
       "      <td>7</td>\n",
       "      <td>8</td>\n",
       "      <td>0</td>\n",
       "      <td>3</td>\n",
       "      <td>Palsson, Master. Gosta Leonard</td>\n",
       "      <td>male</td>\n",
       "      <td>2.0</td>\n",
       "      <td>3</td>\n",
       "      <td>1</td>\n",
       "      <td>349909</td>\n",
       "      <td>21.0750</td>\n",
       "      <td>NaN</td>\n",
       "      <td>S</td>\n",
       "    </tr>\n",
       "    <tr>\n",
       "      <td>8</td>\n",
       "      <td>9</td>\n",
       "      <td>1</td>\n",
       "      <td>3</td>\n",
       "      <td>Johnson, Mrs. Oscar W (Elisabeth Vilhelmina Berg)</td>\n",
       "      <td>female</td>\n",
       "      <td>27.0</td>\n",
       "      <td>0</td>\n",
       "      <td>2</td>\n",
       "      <td>347742</td>\n",
       "      <td>11.1333</td>\n",
       "      <td>NaN</td>\n",
       "      <td>S</td>\n",
       "    </tr>\n",
       "    <tr>\n",
       "      <td>9</td>\n",
       "      <td>10</td>\n",
       "      <td>1</td>\n",
       "      <td>2</td>\n",
       "      <td>Nasser, Mrs. Nicholas (Adele Achem)</td>\n",
       "      <td>female</td>\n",
       "      <td>14.0</td>\n",
       "      <td>1</td>\n",
       "      <td>0</td>\n",
       "      <td>237736</td>\n",
       "      <td>30.0708</td>\n",
       "      <td>NaN</td>\n",
       "      <td>C</td>\n",
       "    </tr>\n",
       "  </tbody>\n",
       "</table>\n",
       "</div>"
      ],
      "text/plain": [
       "   PassengerId  Survived  Pclass  \\\n",
       "0            1         0       3   \n",
       "1            2         1       1   \n",
       "2            3         1       3   \n",
       "3            4         1       1   \n",
       "4            5         0       3   \n",
       "5            6         0       3   \n",
       "6            7         0       1   \n",
       "7            8         0       3   \n",
       "8            9         1       3   \n",
       "9           10         1       2   \n",
       "\n",
       "                                                Name     Sex   Age  SibSp  \\\n",
       "0                            Braund, Mr. Owen Harris    male  22.0      1   \n",
       "1  Cumings, Mrs. John Bradley (Florence Briggs Th...  female  38.0      1   \n",
       "2                             Heikkinen, Miss. Laina  female  26.0      0   \n",
       "3       Futrelle, Mrs. Jacques Heath (Lily May Peel)  female  35.0      1   \n",
       "4                           Allen, Mr. William Henry    male  35.0      0   \n",
       "5                                   Moran, Mr. James    male   NaN      0   \n",
       "6                            McCarthy, Mr. Timothy J    male  54.0      0   \n",
       "7                     Palsson, Master. Gosta Leonard    male   2.0      3   \n",
       "8  Johnson, Mrs. Oscar W (Elisabeth Vilhelmina Berg)  female  27.0      0   \n",
       "9                Nasser, Mrs. Nicholas (Adele Achem)  female  14.0      1   \n",
       "\n",
       "   Parch            Ticket     Fare Cabin Embarked  \n",
       "0      0         A/5 21171   7.2500   NaN        S  \n",
       "1      0          PC 17599  71.2833   C85        C  \n",
       "2      0  STON/O2. 3101282   7.9250   NaN        S  \n",
       "3      0            113803  53.1000  C123        S  \n",
       "4      0            373450   8.0500   NaN        S  \n",
       "5      0            330877   8.4583   NaN        Q  \n",
       "6      0             17463  51.8625   E46        S  \n",
       "7      1            349909  21.0750   NaN        S  \n",
       "8      2            347742  11.1333   NaN        S  \n",
       "9      0            237736  30.0708   NaN        C  "
      ]
     },
     "execution_count": 3,
     "metadata": {},
     "output_type": "execute_result"
    }
   ],
   "source": [
    "df_train.head(10)"
   ]
  },
  {
   "cell_type": "markdown",
   "metadata": {},
   "source": [
    "###### Consists of Basic Information of Passengers and their status of Survival - `Survived-1` ,` Dead-0`"
   ]
  },
  {
   "cell_type": "code",
   "execution_count": 4,
   "metadata": {},
   "outputs": [
    {
     "data": {
      "text/html": [
       "<div>\n",
       "<style scoped>\n",
       "    .dataframe tbody tr th:only-of-type {\n",
       "        vertical-align: middle;\n",
       "    }\n",
       "\n",
       "    .dataframe tbody tr th {\n",
       "        vertical-align: top;\n",
       "    }\n",
       "\n",
       "    .dataframe thead th {\n",
       "        text-align: right;\n",
       "    }\n",
       "</style>\n",
       "<table border=\"1\" class=\"dataframe\">\n",
       "  <thead>\n",
       "    <tr style=\"text-align: right;\">\n",
       "      <th></th>\n",
       "      <th>PassengerId</th>\n",
       "      <th>Pclass</th>\n",
       "      <th>Name</th>\n",
       "      <th>Sex</th>\n",
       "      <th>Age</th>\n",
       "      <th>SibSp</th>\n",
       "      <th>Parch</th>\n",
       "      <th>Ticket</th>\n",
       "      <th>Fare</th>\n",
       "      <th>Cabin</th>\n",
       "      <th>Embarked</th>\n",
       "    </tr>\n",
       "  </thead>\n",
       "  <tbody>\n",
       "    <tr>\n",
       "      <td>0</td>\n",
       "      <td>892</td>\n",
       "      <td>3</td>\n",
       "      <td>Kelly, Mr. James</td>\n",
       "      <td>male</td>\n",
       "      <td>34.5</td>\n",
       "      <td>0</td>\n",
       "      <td>0</td>\n",
       "      <td>330911</td>\n",
       "      <td>7.8292</td>\n",
       "      <td>NaN</td>\n",
       "      <td>Q</td>\n",
       "    </tr>\n",
       "    <tr>\n",
       "      <td>1</td>\n",
       "      <td>893</td>\n",
       "      <td>3</td>\n",
       "      <td>Wilkes, Mrs. James (Ellen Needs)</td>\n",
       "      <td>female</td>\n",
       "      <td>47.0</td>\n",
       "      <td>1</td>\n",
       "      <td>0</td>\n",
       "      <td>363272</td>\n",
       "      <td>7.0000</td>\n",
       "      <td>NaN</td>\n",
       "      <td>S</td>\n",
       "    </tr>\n",
       "    <tr>\n",
       "      <td>2</td>\n",
       "      <td>894</td>\n",
       "      <td>2</td>\n",
       "      <td>Myles, Mr. Thomas Francis</td>\n",
       "      <td>male</td>\n",
       "      <td>62.0</td>\n",
       "      <td>0</td>\n",
       "      <td>0</td>\n",
       "      <td>240276</td>\n",
       "      <td>9.6875</td>\n",
       "      <td>NaN</td>\n",
       "      <td>Q</td>\n",
       "    </tr>\n",
       "    <tr>\n",
       "      <td>3</td>\n",
       "      <td>895</td>\n",
       "      <td>3</td>\n",
       "      <td>Wirz, Mr. Albert</td>\n",
       "      <td>male</td>\n",
       "      <td>27.0</td>\n",
       "      <td>0</td>\n",
       "      <td>0</td>\n",
       "      <td>315154</td>\n",
       "      <td>8.6625</td>\n",
       "      <td>NaN</td>\n",
       "      <td>S</td>\n",
       "    </tr>\n",
       "    <tr>\n",
       "      <td>4</td>\n",
       "      <td>896</td>\n",
       "      <td>3</td>\n",
       "      <td>Hirvonen, Mrs. Alexander (Helga E Lindqvist)</td>\n",
       "      <td>female</td>\n",
       "      <td>22.0</td>\n",
       "      <td>1</td>\n",
       "      <td>1</td>\n",
       "      <td>3101298</td>\n",
       "      <td>12.2875</td>\n",
       "      <td>NaN</td>\n",
       "      <td>S</td>\n",
       "    </tr>\n",
       "    <tr>\n",
       "      <td>5</td>\n",
       "      <td>897</td>\n",
       "      <td>3</td>\n",
       "      <td>Svensson, Mr. Johan Cervin</td>\n",
       "      <td>male</td>\n",
       "      <td>14.0</td>\n",
       "      <td>0</td>\n",
       "      <td>0</td>\n",
       "      <td>7538</td>\n",
       "      <td>9.2250</td>\n",
       "      <td>NaN</td>\n",
       "      <td>S</td>\n",
       "    </tr>\n",
       "    <tr>\n",
       "      <td>6</td>\n",
       "      <td>898</td>\n",
       "      <td>3</td>\n",
       "      <td>Connolly, Miss. Kate</td>\n",
       "      <td>female</td>\n",
       "      <td>30.0</td>\n",
       "      <td>0</td>\n",
       "      <td>0</td>\n",
       "      <td>330972</td>\n",
       "      <td>7.6292</td>\n",
       "      <td>NaN</td>\n",
       "      <td>Q</td>\n",
       "    </tr>\n",
       "    <tr>\n",
       "      <td>7</td>\n",
       "      <td>899</td>\n",
       "      <td>2</td>\n",
       "      <td>Caldwell, Mr. Albert Francis</td>\n",
       "      <td>male</td>\n",
       "      <td>26.0</td>\n",
       "      <td>1</td>\n",
       "      <td>1</td>\n",
       "      <td>248738</td>\n",
       "      <td>29.0000</td>\n",
       "      <td>NaN</td>\n",
       "      <td>S</td>\n",
       "    </tr>\n",
       "    <tr>\n",
       "      <td>8</td>\n",
       "      <td>900</td>\n",
       "      <td>3</td>\n",
       "      <td>Abrahim, Mrs. Joseph (Sophie Halaut Easu)</td>\n",
       "      <td>female</td>\n",
       "      <td>18.0</td>\n",
       "      <td>0</td>\n",
       "      <td>0</td>\n",
       "      <td>2657</td>\n",
       "      <td>7.2292</td>\n",
       "      <td>NaN</td>\n",
       "      <td>C</td>\n",
       "    </tr>\n",
       "    <tr>\n",
       "      <td>9</td>\n",
       "      <td>901</td>\n",
       "      <td>3</td>\n",
       "      <td>Davies, Mr. John Samuel</td>\n",
       "      <td>male</td>\n",
       "      <td>21.0</td>\n",
       "      <td>2</td>\n",
       "      <td>0</td>\n",
       "      <td>A/4 48871</td>\n",
       "      <td>24.1500</td>\n",
       "      <td>NaN</td>\n",
       "      <td>S</td>\n",
       "    </tr>\n",
       "  </tbody>\n",
       "</table>\n",
       "</div>"
      ],
      "text/plain": [
       "   PassengerId  Pclass                                          Name     Sex  \\\n",
       "0          892       3                              Kelly, Mr. James    male   \n",
       "1          893       3              Wilkes, Mrs. James (Ellen Needs)  female   \n",
       "2          894       2                     Myles, Mr. Thomas Francis    male   \n",
       "3          895       3                              Wirz, Mr. Albert    male   \n",
       "4          896       3  Hirvonen, Mrs. Alexander (Helga E Lindqvist)  female   \n",
       "5          897       3                    Svensson, Mr. Johan Cervin    male   \n",
       "6          898       3                          Connolly, Miss. Kate  female   \n",
       "7          899       2                  Caldwell, Mr. Albert Francis    male   \n",
       "8          900       3     Abrahim, Mrs. Joseph (Sophie Halaut Easu)  female   \n",
       "9          901       3                       Davies, Mr. John Samuel    male   \n",
       "\n",
       "    Age  SibSp  Parch     Ticket     Fare Cabin Embarked  \n",
       "0  34.5      0      0     330911   7.8292   NaN        Q  \n",
       "1  47.0      1      0     363272   7.0000   NaN        S  \n",
       "2  62.0      0      0     240276   9.6875   NaN        Q  \n",
       "3  27.0      0      0     315154   8.6625   NaN        S  \n",
       "4  22.0      1      1    3101298  12.2875   NaN        S  \n",
       "5  14.0      0      0       7538   9.2250   NaN        S  \n",
       "6  30.0      0      0     330972   7.6292   NaN        Q  \n",
       "7  26.0      1      1     248738  29.0000   NaN        S  \n",
       "8  18.0      0      0       2657   7.2292   NaN        C  \n",
       "9  21.0      2      0  A/4 48871  24.1500   NaN        S  "
      ]
     },
     "execution_count": 4,
     "metadata": {},
     "output_type": "execute_result"
    }
   ],
   "source": [
    "df_test.head(10)"
   ]
  },
  {
   "cell_type": "markdown",
   "metadata": {},
   "source": [
    "###### Need to predict the Survival"
   ]
  },
  {
   "cell_type": "code",
   "execution_count": 5,
   "metadata": {},
   "outputs": [
    {
     "name": "stdout",
     "output_type": "stream",
     "text": [
      "<class 'pandas.core.frame.DataFrame'>\n",
      "RangeIndex: 891 entries, 0 to 890\n",
      "Data columns (total 12 columns):\n",
      "PassengerId    891 non-null int64\n",
      "Survived       891 non-null int64\n",
      "Pclass         891 non-null int64\n",
      "Name           891 non-null object\n",
      "Sex            891 non-null object\n",
      "Age            714 non-null float64\n",
      "SibSp          891 non-null int64\n",
      "Parch          891 non-null int64\n",
      "Ticket         891 non-null object\n",
      "Fare           891 non-null float64\n",
      "Cabin          204 non-null object\n",
      "Embarked       889 non-null object\n",
      "dtypes: float64(2), int64(5), object(5)\n",
      "memory usage: 83.7+ KB\n"
     ]
    }
   ],
   "source": [
    "df_train.info()"
   ]
  },
  {
   "cell_type": "markdown",
   "metadata": {},
   "source": [
    "##### Inference: \n",
    "There are null values in Age and Cabin, they are dealt in `Feautre Engineering Section`."
   ]
  },
  {
   "cell_type": "code",
   "execution_count": 6,
   "metadata": {},
   "outputs": [
    {
     "name": "stdout",
     "output_type": "stream",
     "text": [
      "<class 'pandas.core.frame.DataFrame'>\n",
      "RangeIndex: 418 entries, 0 to 417\n",
      "Data columns (total 11 columns):\n",
      "PassengerId    418 non-null int64\n",
      "Pclass         418 non-null int64\n",
      "Name           418 non-null object\n",
      "Sex            418 non-null object\n",
      "Age            332 non-null float64\n",
      "SibSp          418 non-null int64\n",
      "Parch          418 non-null int64\n",
      "Ticket         418 non-null object\n",
      "Fare           417 non-null float64\n",
      "Cabin          91 non-null object\n",
      "Embarked       418 non-null object\n",
      "dtypes: float64(2), int64(4), object(5)\n",
      "memory usage: 36.0+ KB\n"
     ]
    }
   ],
   "source": [
    "df_test.info()"
   ]
  },
  {
   "cell_type": "markdown",
   "metadata": {},
   "source": [
    "### Visualizations\n",
    "###### Let us look into the number of Survivors w.r.t Sex"
   ]
  },
  {
   "cell_type": "code",
   "execution_count": 7,
   "metadata": {},
   "outputs": [
    {
     "data": {
      "text/plain": [
       "male      577\n",
       "female    314\n",
       "Name: Sex, dtype: int64"
      ]
     },
     "execution_count": 7,
     "metadata": {},
     "output_type": "execute_result"
    }
   ],
   "source": [
    "# Total number of Males/Females\n",
    "df_train.Sex.value_counts()"
   ]
  },
  {
   "cell_type": "code",
   "execution_count": 8,
   "metadata": {},
   "outputs": [
    {
     "data": {
      "image/png": "[encoded data removed]",
      "text/plain": [
       "<Figure size 432x288 with 1 Axes>"
      ]
     },
     "metadata": {
      "needs_background": "light"
     },
     "output_type": "display_data"
    }
   ],
   "source": [
    "(df_train.groupby(['Sex']).agg({'Survived':'mean'})*100).plot(kind='bar',color='Green')\n",
    "plt.show()"
   ]
  },
  {
   "cell_type": "markdown",
   "metadata": {},
   "source": [
    "##### Inference: \n",
    "The Survival of Male is Significantly low with just 18 % as Compared to that of Female 72%.\n",
    "<br>[From the fact we know Children and women are given atmost priority]"
   ]
  },
  {
   "cell_type": "markdown",
   "metadata": {},
   "source": [
    "#### Let us look at the Average Survival Based on the Socio-Economic Class "
   ]
  },
  {
   "cell_type": "code",
   "execution_count": 9,
   "metadata": {},
   "outputs": [
    {
     "data": {
      "image/png": "[encoded data removed]",
      "text/plain": [
       "<Figure size 432x288 with 1 Axes>"
      ]
     },
     "metadata": {
      "needs_background": "light"
     },
     "output_type": "display_data"
    }
   ],
   "source": [
    "(df_train.groupby(['Pclass']).agg({'Survived':'mean'})*100).plot(kind='bar')\n",
    "plt.show()"
   ]
  },
  {
   "cell_type": "markdown",
   "metadata": {},
   "source": [
    "##### Inference: \n",
    "Results are quite Expected as the Upper Class is has Highest Survival % above 65%.\n"
   ]
  },
  {
   "cell_type": "markdown",
   "metadata": {},
   "source": [
    "#### Let us Create Age Group to understand the survival wrt age group"
   ]
  },
  {
   "cell_type": "code",
   "execution_count": 10,
   "metadata": {},
   "outputs": [],
   "source": [
    "df_temp = df_train\n",
    "df_temp['AgeGrp'] = df_temp.Age.apply(lambda x: x//10)"
   ]
  },
  {
   "cell_type": "code",
   "execution_count": 11,
   "metadata": {},
   "outputs": [
    {
     "data": {
      "image/png": "[encoded data removed]",
      "text/plain": [
       "<Figure size 432x288 with 1 Axes>"
      ]
     },
     "metadata": {
      "needs_background": "light"
     },
     "output_type": "display_data"
    }
   ],
   "source": [
    "(df_temp.groupby(['AgeGrp']).agg({'Survived':'mean'})*100).plot(kind='bar')\n",
    "plt.show()"
   ]
  },
  {
   "cell_type": "markdown",
   "metadata": {},
   "source": [
    "##### Inference: \n",
    "It is evident that AgeGrp has an anamoly in data anlysis omitting it the next highest chance of survival is 0-10 years followed by 20-30 years"
   ]
  },
  {
   "cell_type": "markdown",
   "metadata": {},
   "source": [
    "#### Let us understand the Survival wrt   Age Group and Sex"
   ]
  },
  {
   "cell_type": "code",
   "execution_count": 12,
   "metadata": {},
   "outputs": [],
   "source": [
    "df_temp= df_temp[df_temp.AgeGrp<7]"
   ]
  },
  {
   "cell_type": "code",
   "execution_count": 13,
   "metadata": {},
   "outputs": [],
   "source": [
    "h=df_temp.pivot_table(index=['Sex'],columns=['AgeGrp'],values ='Survived',aggfunc=np.mean)\n"
   ]
  },
  {
   "cell_type": "code",
   "execution_count": 14,
   "metadata": {},
   "outputs": [
    {
     "data": {
      "image/png": "[encoded data removed]",
      "text/plain": [
       "<Figure size 1080x360 with 2 Axes>"
      ]
     },
     "metadata": {
      "needs_background": "light"
     },
     "output_type": "display_data"
    }
   ],
   "source": [
    "plt.figure(figsize=[15,5])\n",
    "sns.heatmap(h, cmap='Blues',annot=True,linewidth=0.5)\n",
    "b, t = plt.ylim() # the values for bottom and top\n",
    "b += 0.5 # Add 0.5 to the bottom\n",
    "t -= 0.5 # Subtract 0.5 from the top\n",
    "plt.ylim(b, t) # update the ylim(bottom, top) values\n",
    "plt.show() \n",
    "plt.show()"
   ]
  },
  {
   "cell_type": "markdown",
   "metadata": {},
   "source": [
    "###### Inference: \n",
    "It can be inferred that Females in Age Grps 6,5,3 have higher mean Survival "
   ]
  },
  {
   "cell_type": "markdown",
   "metadata": {},
   "source": [
    "#### Let us understand the Survival w.r.t Age Group, Sex and Pclass"
   ]
  },
  {
   "cell_type": "code",
   "execution_count": 15,
   "metadata": {},
   "outputs": [
    {
     "data": {
      "text/html": [
       "<div>\n",
       "<style scoped>\n",
       "    .dataframe tbody tr th:only-of-type {\n",
       "        vertical-align: middle;\n",
       "    }\n",
       "\n",
       "    .dataframe tbody tr th {\n",
       "        vertical-align: top;\n",
       "    }\n",
       "\n",
       "    .dataframe thead th {\n",
       "        text-align: right;\n",
       "    }\n",
       "</style>\n",
       "<table border=\"1\" class=\"dataframe\">\n",
       "  <thead>\n",
       "    <tr style=\"text-align: right;\">\n",
       "      <th></th>\n",
       "      <th>Sex</th>\n",
       "      <th>female</th>\n",
       "      <th>male</th>\n",
       "    </tr>\n",
       "    <tr>\n",
       "      <th>AgeGrp</th>\n",
       "      <th>Pclass</th>\n",
       "      <th></th>\n",
       "      <th></th>\n",
       "    </tr>\n",
       "  </thead>\n",
       "  <tbody>\n",
       "    <tr>\n",
       "      <td rowspan=\"3\" valign=\"top\">0.0</td>\n",
       "      <td>1</td>\n",
       "      <td>0.000000</td>\n",
       "      <td>1.000000</td>\n",
       "    </tr>\n",
       "    <tr>\n",
       "      <td>2</td>\n",
       "      <td>1.000000</td>\n",
       "      <td>1.000000</td>\n",
       "    </tr>\n",
       "    <tr>\n",
       "      <td>3</td>\n",
       "      <td>0.523810</td>\n",
       "      <td>0.380952</td>\n",
       "    </tr>\n",
       "    <tr>\n",
       "      <td rowspan=\"3\" valign=\"top\">1.0</td>\n",
       "      <td>1</td>\n",
       "      <td>1.000000</td>\n",
       "      <td>0.400000</td>\n",
       "    </tr>\n",
       "    <tr>\n",
       "      <td>2</td>\n",
       "      <td>1.000000</td>\n",
       "      <td>0.100000</td>\n",
       "    </tr>\n",
       "    <tr>\n",
       "      <td>3</td>\n",
       "      <td>0.541667</td>\n",
       "      <td>0.095238</td>\n",
       "    </tr>\n",
       "    <tr>\n",
       "      <td rowspan=\"3\" valign=\"top\">2.0</td>\n",
       "      <td>1</td>\n",
       "      <td>0.937500</td>\n",
       "      <td>0.500000</td>\n",
       "    </tr>\n",
       "    <tr>\n",
       "      <td>2</td>\n",
       "      <td>0.880000</td>\n",
       "      <td>0.000000</td>\n",
       "    </tr>\n",
       "    <tr>\n",
       "      <td>3</td>\n",
       "      <td>0.483871</td>\n",
       "      <td>0.156863</td>\n",
       "    </tr>\n",
       "    <tr>\n",
       "      <td rowspan=\"3\" valign=\"top\">3.0</td>\n",
       "      <td>1</td>\n",
       "      <td>1.000000</td>\n",
       "      <td>0.521739</td>\n",
       "    </tr>\n",
       "    <tr>\n",
       "      <td>2</td>\n",
       "      <td>0.941176</td>\n",
       "      <td>0.096774</td>\n",
       "    </tr>\n",
       "    <tr>\n",
       "      <td>3</td>\n",
       "      <td>0.437500</td>\n",
       "      <td>0.150943</td>\n",
       "    </tr>\n",
       "    <tr>\n",
       "      <td rowspan=\"3\" valign=\"top\">4.0</td>\n",
       "      <td>1</td>\n",
       "      <td>1.000000</td>\n",
       "      <td>0.375000</td>\n",
       "    </tr>\n",
       "    <tr>\n",
       "      <td>2</td>\n",
       "      <td>0.900000</td>\n",
       "      <td>0.125000</td>\n",
       "    </tr>\n",
       "    <tr>\n",
       "      <td>3</td>\n",
       "      <td>0.000000</td>\n",
       "      <td>0.080000</td>\n",
       "    </tr>\n",
       "    <tr>\n",
       "      <td rowspan=\"3\" valign=\"top\">5.0</td>\n",
       "      <td>1</td>\n",
       "      <td>0.916667</td>\n",
       "      <td>0.266667</td>\n",
       "    </tr>\n",
       "    <tr>\n",
       "      <td>2</td>\n",
       "      <td>0.833333</td>\n",
       "      <td>0.000000</td>\n",
       "    </tr>\n",
       "    <tr>\n",
       "      <td>3</td>\n",
       "      <td>NaN</td>\n",
       "      <td>0.000000</td>\n",
       "    </tr>\n",
       "    <tr>\n",
       "      <td rowspan=\"3\" valign=\"top\">6.0</td>\n",
       "      <td>1</td>\n",
       "      <td>1.000000</td>\n",
       "      <td>0.100000</td>\n",
       "    </tr>\n",
       "    <tr>\n",
       "      <td>2</td>\n",
       "      <td>NaN</td>\n",
       "      <td>0.333333</td>\n",
       "    </tr>\n",
       "    <tr>\n",
       "      <td>3</td>\n",
       "      <td>1.000000</td>\n",
       "      <td>0.000000</td>\n",
       "    </tr>\n",
       "  </tbody>\n",
       "</table>\n",
       "</div>"
      ],
      "text/plain": [
       "Sex              female      male\n",
       "AgeGrp Pclass                    \n",
       "0.0    1       0.000000  1.000000\n",
       "       2       1.000000  1.000000\n",
       "       3       0.523810  0.380952\n",
       "1.0    1       1.000000  0.400000\n",
       "       2       1.000000  0.100000\n",
       "       3       0.541667  0.095238\n",
       "2.0    1       0.937500  0.500000\n",
       "       2       0.880000  0.000000\n",
       "       3       0.483871  0.156863\n",
       "3.0    1       1.000000  0.521739\n",
       "       2       0.941176  0.096774\n",
       "       3       0.437500  0.150943\n",
       "4.0    1       1.000000  0.375000\n",
       "       2       0.900000  0.125000\n",
       "       3       0.000000  0.080000\n",
       "5.0    1       0.916667  0.266667\n",
       "       2       0.833333  0.000000\n",
       "       3            NaN  0.000000\n",
       "6.0    1       1.000000  0.100000\n",
       "       2            NaN  0.333333\n",
       "       3       1.000000  0.000000"
      ]
     },
     "execution_count": 15,
     "metadata": {},
     "output_type": "execute_result"
    }
   ],
   "source": [
    "df_temp.pivot_table(index=['AgeGrp','Pclass'],columns=['Sex'],values ='Survived',aggfunc=np.mean)\n"
   ]
  },
  {
   "cell_type": "markdown",
   "metadata": {},
   "source": [
    "#### Let us  look at the distribution plots\n"
   ]
  },
  {
   "cell_type": "code",
   "execution_count": 16,
   "metadata": {},
   "outputs": [
    {
     "data": {
      "image/png": "[encoded data removed]",
      "text/plain": [
       "<Figure size 432x288 with 1 Axes>"
      ]
     },
     "metadata": {},
     "output_type": "display_data"
    }
   ],
   "source": [
    "plt.style.use('dark_background')\n",
    "sns.distplot(df_train[~(df_train.Age.isnull())]['Age'])\n",
    "plt.title('Distribution of Age',fontsize=12)\n",
    "plt.show()"
   ]
  },
  {
   "cell_type": "markdown",
   "metadata": {},
   "source": [
    "###### Inference: \n",
    "Right Tailed Distribution that means outliers are present beyond upper fence"
   ]
  },
  {
   "cell_type": "code",
   "execution_count": 17,
   "metadata": {},
   "outputs": [
    {
     "data": {
      "image/png": "[encoded data removed]",
      "text/plain": [
       "<Figure size 500x500 with 1 Axes>"
      ]
     },
     "metadata": {},
     "output_type": "display_data"
    }
   ],
   "source": [
    "plt.style.use('default')\n",
    "plt.figure(figsize=[5,5])\n",
    "sns.boxplot(df_train[~(df_train.Age.isnull())]['Age'],orient='v')\n",
    "plt.show()"
   ]
  },
  {
   "cell_type": "markdown",
   "metadata": {},
   "source": [
    "Before Removing the Outliers let us also look at the Boxplot for df_test"
   ]
  },
  {
   "cell_type": "code",
   "execution_count": 18,
   "metadata": {},
   "outputs": [
    {
     "data": {
      "image/png": "[encoded data removed]",
      "text/plain": [
       "<Figure size 500x500 with 1 Axes>"
      ]
     },
     "metadata": {},
     "output_type": "display_data"
    }
   ],
   "source": [
    "plt.figure(figsize=[5,5])\n",
    "sns.boxplot(df_test[~(df_test.Age.isnull())]['Age'],orient='v')\n",
    "plt.show()"
   ]
  },
  {
   "cell_type": "markdown",
   "metadata": {},
   "source": [
    "###### Inference: \n",
    "By comparing both the box plots it would be sensible remove the outliers in age >80 (atleast for prediction)"
   ]
  },
  {
   "cell_type": "code",
   "execution_count": 19,
   "metadata": {},
   "outputs": [],
   "source": [
    "#df_train[df_train.Age<80]"
   ]
  },
  {
   "cell_type": "code",
   "execution_count": 20,
   "metadata": {},
   "outputs": [
    {
     "data": {
      "image/png": "[encoded data removed]",
      "text/plain": [
       "<Figure size 640x480 with 1 Axes>"
      ]
     },
     "metadata": {},
     "output_type": "display_data"
    }
   ],
   "source": [
    "plt.style.use('dark_background')\n",
    "sns.distplot(df_train[~(df_train.Fare.isnull())]['Fare'])\n",
    "plt.title('Distribution of Fare',fontsize=12)\n",
    "plt.show()"
   ]
  },
  {
   "cell_type": "code",
   "execution_count": 21,
   "metadata": {},
   "outputs": [
    {
     "data": {
      "image/png": "[encoded data removed]",
      "text/plain": [
       "<Figure size 500x500 with 1 Axes>"
      ]
     },
     "metadata": {},
     "output_type": "display_data"
    }
   ],
   "source": [
    "plt.style.use('default')\n",
    "plt.figure(figsize=[5,5])\n",
    "sns.boxplot(df_train[~(df_train.Fare.isnull())]['Fare'],orient='v')\n",
    "plt.show()"
   ]
  },
  {
   "cell_type": "code",
   "execution_count": 22,
   "metadata": {},
   "outputs": [
    {
     "data": {
      "image/png": "[encoded data removed]",
      "text/plain": [
       "<Figure size 500x500 with 1 Axes>"
      ]
     },
     "metadata": {},
     "output_type": "display_data"
    }
   ],
   "source": [
    "plt.figure(figsize=[5,5])\n",
    "sns.boxplot(df_test[~(df_test.Fare.isnull())]['Fare'],orient='v')\n",
    "plt.show()"
   ]
  },
  {
   "cell_type": "markdown",
   "metadata": {},
   "source": [
    "###### Inference: \n",
    "By comparing both the box plots it would be better to leave the outliers which would help prediction"
   ]
  },
  {
   "cell_type": "markdown",
   "metadata": {},
   "source": [
    "## Feature Engineering"
   ]
  },
  {
   "cell_type": "markdown",
   "metadata": {},
   "source": [
    "`Name` Column can be used by extracting the Titles"
   ]
  },
  {
   "cell_type": "code",
   "execution_count": 23,
   "metadata": {},
   "outputs": [],
   "source": [
    "def get_titles(data):\n",
    "    data['Title'] = data['Name'].map(lambda name:name.split(',')[1].split('.')[0].strip())\n",
    "    return data\n",
    "\n",
    "df_train=get_titles(df_train)\n",
    "df_test =get_titles(df_test) "
   ]
  },
  {
   "cell_type": "code",
   "execution_count": 24,
   "metadata": {},
   "outputs": [],
   "source": [
    "title_dict = {\n",
    "    \"Capt\": \"Rare\",\n",
    "    \"Col\": \"Rare\",\n",
    "    \"Major\": \"Rare\",\n",
    "    \"Jonkheer\": \"Rare\",\n",
    "    \"Don\": \"Rare\",\n",
    "    \"Dona\": \"Miss\",\n",
    "    \"Sir\" : \"Rare\",\n",
    "    \"Dr\": \"Rare\",\n",
    "    \"Rev\": \"Rare\",\n",
    "    \"the Countess\":\"Rare\",\n",
    "    \"Mme\": \"Mrs\",\n",
    "    \"Mlle\": \"Miss\",\n",
    "    \"Ms\": \"Mrs\",\n",
    "    \"Mr\" : \"Mr\",\n",
    "    \"Mrs\" : \"Mrs\",\n",
    "    \"Miss\" : \"Miss\",\n",
    "    \"Master\" : \"Master\",\n",
    "    \"Lady\" : \"Rare\"\n",
    "}\n",
    "# map each title to its class or category\n",
    "df_train.Title = df_train.Title.map(title_dict)\n",
    "df_test.Title = df_test.Title.map(title_dict)\n"
   ]
  },
  {
   "cell_type": "code",
   "execution_count": 25,
   "metadata": {},
   "outputs": [],
   "source": [
    "del df_train['AgeGrp']\n"
   ]
  },
  {
   "cell_type": "markdown",
   "metadata": {},
   "source": [
    "`Cabin` Column can be used by extracting the `Deck` for 1st class Passengers and rest are Unkown \n",
    " Lets us first NaN cabins as 'U' "
   ]
  },
  {
   "cell_type": "code",
   "execution_count": 26,
   "metadata": {},
   "outputs": [],
   "source": [
    "def getdeck(df):\n",
    "    df.Cabin.fillna('U',inplace=True)\n",
    "    df['Deck'] = df.Cabin.apply(lambda x:x[0])"
   ]
  },
  {
   "cell_type": "code",
   "execution_count": 27,
   "metadata": {},
   "outputs": [],
   "source": [
    "getdeck(df_train)\n",
    "getdeck(df_test)"
   ]
  },
  {
   "cell_type": "markdown",
   "metadata": {},
   "source": [
    "Now We can drop Columns `Pasengerid` `Ticket` `Cabin` `Name`"
   ]
  },
  {
   "cell_type": "code",
   "execution_count": 28,
   "metadata": {},
   "outputs": [],
   "source": [
    "df_train = df_train.drop(['PassengerId','Name','Ticket','Cabin'],axis=1)\n",
    "df_test=df_test.drop(['PassengerId','Name','Ticket','Cabin'],axis=1)"
   ]
  },
  {
   "cell_type": "code",
   "execution_count": 29,
   "metadata": {},
   "outputs": [
    {
     "name": "stdout",
     "output_type": "stream",
     "text": [
      "<class 'pandas.core.frame.DataFrame'>\n",
      "RangeIndex: 891 entries, 0 to 890\n",
      "Data columns (total 10 columns):\n",
      "Survived    891 non-null int64\n",
      "Pclass      891 non-null int64\n",
      "Sex         891 non-null object\n",
      "Age         714 non-null float64\n",
      "SibSp       891 non-null int64\n",
      "Parch       891 non-null int64\n",
      "Fare        891 non-null float64\n",
      "Embarked    889 non-null object\n",
      "Title       891 non-null object\n",
      "Deck        891 non-null object\n",
      "dtypes: float64(2), int64(4), object(4)\n",
      "memory usage: 69.7+ KB\n"
     ]
    }
   ],
   "source": [
    "df_train.info()"
   ]
  },
  {
   "cell_type": "code",
   "execution_count": 30,
   "metadata": {},
   "outputs": [
    {
     "name": "stdout",
     "output_type": "stream",
     "text": [
      "<class 'pandas.core.frame.DataFrame'>\n",
      "RangeIndex: 418 entries, 0 to 417\n",
      "Data columns (total 9 columns):\n",
      "Pclass      418 non-null int64\n",
      "Sex         418 non-null object\n",
      "Age         332 non-null float64\n",
      "SibSp       418 non-null int64\n",
      "Parch       418 non-null int64\n",
      "Fare        417 non-null float64\n",
      "Embarked    418 non-null object\n",
      "Title       418 non-null object\n",
      "Deck        418 non-null object\n",
      "dtypes: float64(2), int64(3), object(4)\n",
      "memory usage: 29.5+ KB\n"
     ]
    }
   ],
   "source": [
    "df_test.info()"
   ]
  },
  {
   "cell_type": "markdown",
   "metadata": {},
   "source": [
    "### Dealing with the Missing Values `Age Embarked`,`Age Fare`"
   ]
  },
  {
   "cell_type": "markdown",
   "metadata": {},
   "source": [
    "Let us fill the Embarked with Mode as it is Categorical "
   ]
  },
  {
   "cell_type": "code",
   "execution_count": 31,
   "metadata": {},
   "outputs": [],
   "source": [
    "df_train.Embarked = df_train.Embarked.fillna(df_train.Embarked.mode()[0]) "
   ]
  },
  {
   "cell_type": "markdown",
   "metadata": {},
   "source": [
    "But for `Age` let us make use of Medians of the `Title` "
   ]
  },
  {
   "cell_type": "code",
   "execution_count": 32,
   "metadata": {},
   "outputs": [],
   "source": [
    "def fillage(df):\n",
    "    for title in df['Title'].unique():   \n",
    "        df.loc[df['Title']==title,'Age']= df.loc[df['Title']==title,'Age'].fillna(df.loc[df[\"Title\"]==title]['Age'].median())\n"
   ]
  },
  {
   "cell_type": "code",
   "execution_count": 33,
   "metadata": {},
   "outputs": [],
   "source": [
    "fillage(df_train)\n",
    "fillage(df_test)"
   ]
  },
  {
   "cell_type": "code",
   "execution_count": 34,
   "metadata": {},
   "outputs": [],
   "source": [
    "df_test.Fare = df_test.Fare.fillna(df_test.Fare.median()) "
   ]
  },
  {
   "cell_type": "code",
   "execution_count": 35,
   "metadata": {},
   "outputs": [
    {
     "data": {
      "text/html": [
       "<div>\n",
       "<style scoped>\n",
       "    .dataframe tbody tr th:only-of-type {\n",
       "        vertical-align: middle;\n",
       "    }\n",
       "\n",
       "    .dataframe tbody tr th {\n",
       "        vertical-align: top;\n",
       "    }\n",
       "\n",
       "    .dataframe thead th {\n",
       "        text-align: right;\n",
       "    }\n",
       "</style>\n",
       "<table border=\"1\" class=\"dataframe\">\n",
       "  <thead>\n",
       "    <tr style=\"text-align: right;\">\n",
       "      <th></th>\n",
       "      <th>Survived</th>\n",
       "      <th>Pclass</th>\n",
       "      <th>Sex</th>\n",
       "      <th>Age</th>\n",
       "      <th>SibSp</th>\n",
       "      <th>Parch</th>\n",
       "      <th>Fare</th>\n",
       "      <th>Embarked</th>\n",
       "      <th>Title</th>\n",
       "      <th>Deck</th>\n",
       "    </tr>\n",
       "  </thead>\n",
       "  <tbody>\n",
       "    <tr>\n",
       "      <td>0</td>\n",
       "      <td>0</td>\n",
       "      <td>3</td>\n",
       "      <td>male</td>\n",
       "      <td>22.0</td>\n",
       "      <td>1</td>\n",
       "      <td>0</td>\n",
       "      <td>7.2500</td>\n",
       "      <td>S</td>\n",
       "      <td>Mr</td>\n",
       "      <td>U</td>\n",
       "    </tr>\n",
       "    <tr>\n",
       "      <td>1</td>\n",
       "      <td>1</td>\n",
       "      <td>1</td>\n",
       "      <td>female</td>\n",
       "      <td>38.0</td>\n",
       "      <td>1</td>\n",
       "      <td>0</td>\n",
       "      <td>71.2833</td>\n",
       "      <td>C</td>\n",
       "      <td>Mrs</td>\n",
       "      <td>C</td>\n",
       "    </tr>\n",
       "    <tr>\n",
       "      <td>2</td>\n",
       "      <td>1</td>\n",
       "      <td>3</td>\n",
       "      <td>female</td>\n",
       "      <td>26.0</td>\n",
       "      <td>0</td>\n",
       "      <td>0</td>\n",
       "      <td>7.9250</td>\n",
       "      <td>S</td>\n",
       "      <td>Miss</td>\n",
       "      <td>U</td>\n",
       "    </tr>\n",
       "    <tr>\n",
       "      <td>3</td>\n",
       "      <td>1</td>\n",
       "      <td>1</td>\n",
       "      <td>female</td>\n",
       "      <td>35.0</td>\n",
       "      <td>1</td>\n",
       "      <td>0</td>\n",
       "      <td>53.1000</td>\n",
       "      <td>S</td>\n",
       "      <td>Mrs</td>\n",
       "      <td>C</td>\n",
       "    </tr>\n",
       "    <tr>\n",
       "      <td>4</td>\n",
       "      <td>0</td>\n",
       "      <td>3</td>\n",
       "      <td>male</td>\n",
       "      <td>35.0</td>\n",
       "      <td>0</td>\n",
       "      <td>0</td>\n",
       "      <td>8.0500</td>\n",
       "      <td>S</td>\n",
       "      <td>Mr</td>\n",
       "      <td>U</td>\n",
       "    </tr>\n",
       "    <tr>\n",
       "      <td>5</td>\n",
       "      <td>0</td>\n",
       "      <td>3</td>\n",
       "      <td>male</td>\n",
       "      <td>30.0</td>\n",
       "      <td>0</td>\n",
       "      <td>0</td>\n",
       "      <td>8.4583</td>\n",
       "      <td>Q</td>\n",
       "      <td>Mr</td>\n",
       "      <td>U</td>\n",
       "    </tr>\n",
       "    <tr>\n",
       "      <td>6</td>\n",
       "      <td>0</td>\n",
       "      <td>1</td>\n",
       "      <td>male</td>\n",
       "      <td>54.0</td>\n",
       "      <td>0</td>\n",
       "      <td>0</td>\n",
       "      <td>51.8625</td>\n",
       "      <td>S</td>\n",
       "      <td>Mr</td>\n",
       "      <td>E</td>\n",
       "    </tr>\n",
       "    <tr>\n",
       "      <td>7</td>\n",
       "      <td>0</td>\n",
       "      <td>3</td>\n",
       "      <td>male</td>\n",
       "      <td>2.0</td>\n",
       "      <td>3</td>\n",
       "      <td>1</td>\n",
       "      <td>21.0750</td>\n",
       "      <td>S</td>\n",
       "      <td>Master</td>\n",
       "      <td>U</td>\n",
       "    </tr>\n",
       "    <tr>\n",
       "      <td>8</td>\n",
       "      <td>1</td>\n",
       "      <td>3</td>\n",
       "      <td>female</td>\n",
       "      <td>27.0</td>\n",
       "      <td>0</td>\n",
       "      <td>2</td>\n",
       "      <td>11.1333</td>\n",
       "      <td>S</td>\n",
       "      <td>Mrs</td>\n",
       "      <td>U</td>\n",
       "    </tr>\n",
       "    <tr>\n",
       "      <td>9</td>\n",
       "      <td>1</td>\n",
       "      <td>2</td>\n",
       "      <td>female</td>\n",
       "      <td>14.0</td>\n",
       "      <td>1</td>\n",
       "      <td>0</td>\n",
       "      <td>30.0708</td>\n",
       "      <td>C</td>\n",
       "      <td>Mrs</td>\n",
       "      <td>U</td>\n",
       "    </tr>\n",
       "  </tbody>\n",
       "</table>\n",
       "</div>"
      ],
      "text/plain": [
       "   Survived  Pclass     Sex   Age  SibSp  Parch     Fare Embarked   Title Deck\n",
       "0         0       3    male  22.0      1      0   7.2500        S      Mr    U\n",
       "1         1       1  female  38.0      1      0  71.2833        C     Mrs    C\n",
       "2         1       3  female  26.0      0      0   7.9250        S    Miss    U\n",
       "3         1       1  female  35.0      1      0  53.1000        S     Mrs    C\n",
       "4         0       3    male  35.0      0      0   8.0500        S      Mr    U\n",
       "5         0       3    male  30.0      0      0   8.4583        Q      Mr    U\n",
       "6         0       1    male  54.0      0      0  51.8625        S      Mr    E\n",
       "7         0       3    male   2.0      3      1  21.0750        S  Master    U\n",
       "8         1       3  female  27.0      0      2  11.1333        S     Mrs    U\n",
       "9         1       2  female  14.0      1      0  30.0708        C     Mrs    U"
      ]
     },
     "execution_count": 35,
     "metadata": {},
     "output_type": "execute_result"
    }
   ],
   "source": [
    "df_train.head(10)"
   ]
  },
  {
   "cell_type": "code",
   "execution_count": 36,
   "metadata": {},
   "outputs": [
    {
     "data": {
      "text/html": [
       "<div>\n",
       "<style scoped>\n",
       "    .dataframe tbody tr th:only-of-type {\n",
       "        vertical-align: middle;\n",
       "    }\n",
       "\n",
       "    .dataframe tbody tr th {\n",
       "        vertical-align: top;\n",
       "    }\n",
       "\n",
       "    .dataframe thead th {\n",
       "        text-align: right;\n",
       "    }\n",
       "</style>\n",
       "<table border=\"1\" class=\"dataframe\">\n",
       "  <thead>\n",
       "    <tr style=\"text-align: right;\">\n",
       "      <th></th>\n",
       "      <th>Pclass</th>\n",
       "      <th>Sex</th>\n",
       "      <th>Age</th>\n",
       "      <th>SibSp</th>\n",
       "      <th>Parch</th>\n",
       "      <th>Fare</th>\n",
       "      <th>Embarked</th>\n",
       "      <th>Title</th>\n",
       "      <th>Deck</th>\n",
       "    </tr>\n",
       "  </thead>\n",
       "  <tbody>\n",
       "    <tr>\n",
       "      <td>0</td>\n",
       "      <td>3</td>\n",
       "      <td>male</td>\n",
       "      <td>34.5</td>\n",
       "      <td>0</td>\n",
       "      <td>0</td>\n",
       "      <td>7.8292</td>\n",
       "      <td>Q</td>\n",
       "      <td>Mr</td>\n",
       "      <td>U</td>\n",
       "    </tr>\n",
       "    <tr>\n",
       "      <td>1</td>\n",
       "      <td>3</td>\n",
       "      <td>female</td>\n",
       "      <td>47.0</td>\n",
       "      <td>1</td>\n",
       "      <td>0</td>\n",
       "      <td>7.0000</td>\n",
       "      <td>S</td>\n",
       "      <td>Mrs</td>\n",
       "      <td>U</td>\n",
       "    </tr>\n",
       "    <tr>\n",
       "      <td>2</td>\n",
       "      <td>2</td>\n",
       "      <td>male</td>\n",
       "      <td>62.0</td>\n",
       "      <td>0</td>\n",
       "      <td>0</td>\n",
       "      <td>9.6875</td>\n",
       "      <td>Q</td>\n",
       "      <td>Mr</td>\n",
       "      <td>U</td>\n",
       "    </tr>\n",
       "    <tr>\n",
       "      <td>3</td>\n",
       "      <td>3</td>\n",
       "      <td>male</td>\n",
       "      <td>27.0</td>\n",
       "      <td>0</td>\n",
       "      <td>0</td>\n",
       "      <td>8.6625</td>\n",
       "      <td>S</td>\n",
       "      <td>Mr</td>\n",
       "      <td>U</td>\n",
       "    </tr>\n",
       "    <tr>\n",
       "      <td>4</td>\n",
       "      <td>3</td>\n",
       "      <td>female</td>\n",
       "      <td>22.0</td>\n",
       "      <td>1</td>\n",
       "      <td>1</td>\n",
       "      <td>12.2875</td>\n",
       "      <td>S</td>\n",
       "      <td>Mrs</td>\n",
       "      <td>U</td>\n",
       "    </tr>\n",
       "    <tr>\n",
       "      <td>5</td>\n",
       "      <td>3</td>\n",
       "      <td>male</td>\n",
       "      <td>14.0</td>\n",
       "      <td>0</td>\n",
       "      <td>0</td>\n",
       "      <td>9.2250</td>\n",
       "      <td>S</td>\n",
       "      <td>Mr</td>\n",
       "      <td>U</td>\n",
       "    </tr>\n",
       "    <tr>\n",
       "      <td>6</td>\n",
       "      <td>3</td>\n",
       "      <td>female</td>\n",
       "      <td>30.0</td>\n",
       "      <td>0</td>\n",
       "      <td>0</td>\n",
       "      <td>7.6292</td>\n",
       "      <td>Q</td>\n",
       "      <td>Miss</td>\n",
       "      <td>U</td>\n",
       "    </tr>\n",
       "    <tr>\n",
       "      <td>7</td>\n",
       "      <td>2</td>\n",
       "      <td>male</td>\n",
       "      <td>26.0</td>\n",
       "      <td>1</td>\n",
       "      <td>1</td>\n",
       "      <td>29.0000</td>\n",
       "      <td>S</td>\n",
       "      <td>Mr</td>\n",
       "      <td>U</td>\n",
       "    </tr>\n",
       "    <tr>\n",
       "      <td>8</td>\n",
       "      <td>3</td>\n",
       "      <td>female</td>\n",
       "      <td>18.0</td>\n",
       "      <td>0</td>\n",
       "      <td>0</td>\n",
       "      <td>7.2292</td>\n",
       "      <td>C</td>\n",
       "      <td>Mrs</td>\n",
       "      <td>U</td>\n",
       "    </tr>\n",
       "    <tr>\n",
       "      <td>9</td>\n",
       "      <td>3</td>\n",
       "      <td>male</td>\n",
       "      <td>21.0</td>\n",
       "      <td>2</td>\n",
       "      <td>0</td>\n",
       "      <td>24.1500</td>\n",
       "      <td>S</td>\n",
       "      <td>Mr</td>\n",
       "      <td>U</td>\n",
       "    </tr>\n",
       "  </tbody>\n",
       "</table>\n",
       "</div>"
      ],
      "text/plain": [
       "   Pclass     Sex   Age  SibSp  Parch     Fare Embarked Title Deck\n",
       "0       3    male  34.5      0      0   7.8292        Q    Mr    U\n",
       "1       3  female  47.0      1      0   7.0000        S   Mrs    U\n",
       "2       2    male  62.0      0      0   9.6875        Q    Mr    U\n",
       "3       3    male  27.0      0      0   8.6625        S    Mr    U\n",
       "4       3  female  22.0      1      1  12.2875        S   Mrs    U\n",
       "5       3    male  14.0      0      0   9.2250        S    Mr    U\n",
       "6       3  female  30.0      0      0   7.6292        Q  Miss    U\n",
       "7       2    male  26.0      1      1  29.0000        S    Mr    U\n",
       "8       3  female  18.0      0      0   7.2292        C   Mrs    U\n",
       "9       3    male  21.0      2      0  24.1500        S    Mr    U"
      ]
     },
     "execution_count": 36,
     "metadata": {},
     "output_type": "execute_result"
    }
   ],
   "source": [
    "df_test.head(10)"
   ]
  },
  {
   "cell_type": "markdown",
   "metadata": {},
   "source": [
    "### Model Preperation"
   ]
  },
  {
   "cell_type": "code",
   "execution_count": 37,
   "metadata": {},
   "outputs": [
    {
     "name": "stdout",
     "output_type": "stream",
     "text": [
      "     Pclass     Sex   Age  SibSp  Parch     Fare Embarked Title Deck\n",
      "0         3    male  22.0      1      0   7.2500        S    Mr    U\n",
      "1         1  female  38.0      1      0  71.2833        C   Mrs    C\n",
      "2         3  female  26.0      0      0   7.9250        S  Miss    U\n",
      "3         1  female  35.0      1      0  53.1000        S   Mrs    C\n",
      "4         3    male  35.0      0      0   8.0500        S    Mr    U\n",
      "..      ...     ...   ...    ...    ...      ...      ...   ...  ...\n",
      "886       2    male  27.0      0      0  13.0000        S  Rare    U\n",
      "887       1  female  19.0      0      0  30.0000        S  Miss    B\n",
      "888       3  female  21.0      1      2  23.4500        S  Miss    U\n",
      "889       1    male  26.0      0      0  30.0000        C    Mr    C\n",
      "890       3    male  32.0      0      0   7.7500        Q    Mr    U\n",
      "\n",
      "[891 rows x 9 columns]\n",
      "(891, 9)\n"
     ]
    }
   ],
   "source": [
    "X_train = df_train.drop(['Survived'],axis=1)\n",
    "print(X_train)\n",
    "\n",
    "print(X_train.shape)"
   ]
  },
  {
   "cell_type": "code",
   "execution_count": 38,
   "metadata": {},
   "outputs": [
    {
     "name": "stdout",
     "output_type": "stream",
     "text": [
      "     Pclass     Sex   Age  SibSp  Parch      Fare Embarked   Title Deck\n",
      "0         3    male  34.5      0      0    7.8292        Q      Mr    U\n",
      "1         3  female  47.0      1      0    7.0000        S     Mrs    U\n",
      "2         2    male  62.0      0      0    9.6875        Q      Mr    U\n",
      "3         3    male  27.0      0      0    8.6625        S      Mr    U\n",
      "4         3  female  22.0      1      1   12.2875        S     Mrs    U\n",
      "..      ...     ...   ...    ...    ...       ...      ...     ...  ...\n",
      "413       3    male  28.5      0      0    8.0500        S      Mr    U\n",
      "414       1  female  39.0      0      0  108.9000        C    Miss    C\n",
      "415       3    male  38.5      0      0    7.2500        S      Mr    U\n",
      "416       3    male  28.5      0      0    8.0500        S      Mr    U\n",
      "417       3    male   7.0      1      1   22.3583        C  Master    U\n",
      "\n",
      "[418 rows x 9 columns]\n",
      "(418, 9)\n"
     ]
    }
   ],
   "source": [
    "X_test = df_test\n",
    "print(X_test)\n",
    "print(X_test.shape)"
   ]
  },
  {
   "cell_type": "code",
   "execution_count": 39,
   "metadata": {},
   "outputs": [
    {
     "name": "stdout",
     "output_type": "stream",
     "text": [
      "0    0\n",
      "1    1\n",
      "2    1\n",
      "3    1\n",
      "4    0\n",
      "5    0\n",
      "6    0\n",
      "7    0\n",
      "8    1\n",
      "9    1\n",
      "Name: Survived, dtype: int64\n"
     ]
    }
   ],
   "source": [
    "y_train = df_train.loc[:,'Survived']\n",
    "print(y_train.head(10))"
   ]
  },
  {
   "cell_type": "markdown",
   "metadata": {},
   "source": [
    "#### Getting the Dummy Variables to Categorical Columns"
   ]
  },
  {
   "cell_type": "code",
   "execution_count": 40,
   "metadata": {},
   "outputs": [
    {
     "name": "stdout",
     "output_type": "stream",
     "text": [
      "   Pclass     Sex   Age  SibSp  Parch     Fare Embarked   Title Deck\n",
      "0       3    male  22.0      1      0   7.2500        S      Mr    U\n",
      "1       1  female  38.0      1      0  71.2833        C     Mrs    C\n",
      "2       3  female  26.0      0      0   7.9250        S    Miss    U\n",
      "3       1  female  35.0      1      0  53.1000        S     Mrs    C\n",
      "4       3    male  35.0      0      0   8.0500        S      Mr    U\n",
      "5       3    male  30.0      0      0   8.4583        Q      Mr    U\n",
      "6       1    male  54.0      0      0  51.8625        S      Mr    E\n",
      "7       3    male   2.0      3      1  21.0750        S  Master    U\n",
      "8       3  female  27.0      0      2  11.1333        S     Mrs    U\n",
      "9       2  female  14.0      1      0  30.0708        C     Mrs    U\n"
     ]
    }
   ],
   "source": [
    "X = pd.concat([X_train,X_test])\n",
    "print(X.head(10))"
   ]
  },
  {
   "cell_type": "code",
   "execution_count": 41,
   "metadata": {},
   "outputs": [],
   "source": [
    "X =pd.get_dummies(X,columns=['Pclass','Embarked','Title','Deck','Sex'])\n"
   ]
  },
  {
   "cell_type": "code",
   "execution_count": 42,
   "metadata": {},
   "outputs": [],
   "source": [
    "X.drop(['Embarked_C'],inplace=True,axis=1)"
   ]
  },
  {
   "cell_type": "code",
   "execution_count": 43,
   "metadata": {},
   "outputs": [
    {
     "data": {
      "text/html": [
       "<div>\n",
       "<style scoped>\n",
       "    .dataframe tbody tr th:only-of-type {\n",
       "        vertical-align: middle;\n",
       "    }\n",
       "\n",
       "    .dataframe tbody tr th {\n",
       "        vertical-align: top;\n",
       "    }\n",
       "\n",
       "    .dataframe thead th {\n",
       "        text-align: right;\n",
       "    }\n",
       "</style>\n",
       "<table border=\"1\" class=\"dataframe\">\n",
       "  <thead>\n",
       "    <tr style=\"text-align: right;\">\n",
       "      <th></th>\n",
       "      <th>Age</th>\n",
       "      <th>SibSp</th>\n",
       "      <th>Parch</th>\n",
       "      <th>Fare</th>\n",
       "      <th>Pclass_1</th>\n",
       "      <th>Pclass_2</th>\n",
       "      <th>Pclass_3</th>\n",
       "      <th>Embarked_Q</th>\n",
       "      <th>Embarked_S</th>\n",
       "      <th>Title_Master</th>\n",
       "      <th>...</th>\n",
       "      <th>Deck_B</th>\n",
       "      <th>Deck_C</th>\n",
       "      <th>Deck_D</th>\n",
       "      <th>Deck_E</th>\n",
       "      <th>Deck_F</th>\n",
       "      <th>Deck_G</th>\n",
       "      <th>Deck_T</th>\n",
       "      <th>Deck_U</th>\n",
       "      <th>Sex_female</th>\n",
       "      <th>Sex_male</th>\n",
       "    </tr>\n",
       "  </thead>\n",
       "  <tbody>\n",
       "    <tr>\n",
       "      <td>0</td>\n",
       "      <td>22.0</td>\n",
       "      <td>1</td>\n",
       "      <td>0</td>\n",
       "      <td>7.2500</td>\n",
       "      <td>0</td>\n",
       "      <td>0</td>\n",
       "      <td>1</td>\n",
       "      <td>0</td>\n",
       "      <td>1</td>\n",
       "      <td>0</td>\n",
       "      <td>...</td>\n",
       "      <td>0</td>\n",
       "      <td>0</td>\n",
       "      <td>0</td>\n",
       "      <td>0</td>\n",
       "      <td>0</td>\n",
       "      <td>0</td>\n",
       "      <td>0</td>\n",
       "      <td>1</td>\n",
       "      <td>0</td>\n",
       "      <td>1</td>\n",
       "    </tr>\n",
       "    <tr>\n",
       "      <td>1</td>\n",
       "      <td>38.0</td>\n",
       "      <td>1</td>\n",
       "      <td>0</td>\n",
       "      <td>71.2833</td>\n",
       "      <td>1</td>\n",
       "      <td>0</td>\n",
       "      <td>0</td>\n",
       "      <td>0</td>\n",
       "      <td>0</td>\n",
       "      <td>0</td>\n",
       "      <td>...</td>\n",
       "      <td>0</td>\n",
       "      <td>1</td>\n",
       "      <td>0</td>\n",
       "      <td>0</td>\n",
       "      <td>0</td>\n",
       "      <td>0</td>\n",
       "      <td>0</td>\n",
       "      <td>0</td>\n",
       "      <td>1</td>\n",
       "      <td>0</td>\n",
       "    </tr>\n",
       "    <tr>\n",
       "      <td>2</td>\n",
       "      <td>26.0</td>\n",
       "      <td>0</td>\n",
       "      <td>0</td>\n",
       "      <td>7.9250</td>\n",
       "      <td>0</td>\n",
       "      <td>0</td>\n",
       "      <td>1</td>\n",
       "      <td>0</td>\n",
       "      <td>1</td>\n",
       "      <td>0</td>\n",
       "      <td>...</td>\n",
       "      <td>0</td>\n",
       "      <td>0</td>\n",
       "      <td>0</td>\n",
       "      <td>0</td>\n",
       "      <td>0</td>\n",
       "      <td>0</td>\n",
       "      <td>0</td>\n",
       "      <td>1</td>\n",
       "      <td>1</td>\n",
       "      <td>0</td>\n",
       "    </tr>\n",
       "    <tr>\n",
       "      <td>3</td>\n",
       "      <td>35.0</td>\n",
       "      <td>1</td>\n",
       "      <td>0</td>\n",
       "      <td>53.1000</td>\n",
       "      <td>1</td>\n",
       "      <td>0</td>\n",
       "      <td>0</td>\n",
       "      <td>0</td>\n",
       "      <td>1</td>\n",
       "      <td>0</td>\n",
       "      <td>...</td>\n",
       "      <td>0</td>\n",
       "      <td>1</td>\n",
       "      <td>0</td>\n",
       "      <td>0</td>\n",
       "      <td>0</td>\n",
       "      <td>0</td>\n",
       "      <td>0</td>\n",
       "      <td>0</td>\n",
       "      <td>1</td>\n",
       "      <td>0</td>\n",
       "    </tr>\n",
       "    <tr>\n",
       "      <td>4</td>\n",
       "      <td>35.0</td>\n",
       "      <td>0</td>\n",
       "      <td>0</td>\n",
       "      <td>8.0500</td>\n",
       "      <td>0</td>\n",
       "      <td>0</td>\n",
       "      <td>1</td>\n",
       "      <td>0</td>\n",
       "      <td>1</td>\n",
       "      <td>0</td>\n",
       "      <td>...</td>\n",
       "      <td>0</td>\n",
       "      <td>0</td>\n",
       "      <td>0</td>\n",
       "      <td>0</td>\n",
       "      <td>0</td>\n",
       "      <td>0</td>\n",
       "      <td>0</td>\n",
       "      <td>1</td>\n",
       "      <td>0</td>\n",
       "      <td>1</td>\n",
       "    </tr>\n",
       "    <tr>\n",
       "      <td>...</td>\n",
       "      <td>...</td>\n",
       "      <td>...</td>\n",
       "      <td>...</td>\n",
       "      <td>...</td>\n",
       "      <td>...</td>\n",
       "      <td>...</td>\n",
       "      <td>...</td>\n",
       "      <td>...</td>\n",
       "      <td>...</td>\n",
       "      <td>...</td>\n",
       "      <td>...</td>\n",
       "      <td>...</td>\n",
       "      <td>...</td>\n",
       "      <td>...</td>\n",
       "      <td>...</td>\n",
       "      <td>...</td>\n",
       "      <td>...</td>\n",
       "      <td>...</td>\n",
       "      <td>...</td>\n",
       "      <td>...</td>\n",
       "      <td>...</td>\n",
       "    </tr>\n",
       "    <tr>\n",
       "      <td>413</td>\n",
       "      <td>28.5</td>\n",
       "      <td>0</td>\n",
       "      <td>0</td>\n",
       "      <td>8.0500</td>\n",
       "      <td>0</td>\n",
       "      <td>0</td>\n",
       "      <td>1</td>\n",
       "      <td>0</td>\n",
       "      <td>1</td>\n",
       "      <td>0</td>\n",
       "      <td>...</td>\n",
       "      <td>0</td>\n",
       "      <td>0</td>\n",
       "      <td>0</td>\n",
       "      <td>0</td>\n",
       "      <td>0</td>\n",
       "      <td>0</td>\n",
       "      <td>0</td>\n",
       "      <td>1</td>\n",
       "      <td>0</td>\n",
       "      <td>1</td>\n",
       "    </tr>\n",
       "    <tr>\n",
       "      <td>414</td>\n",
       "      <td>39.0</td>\n",
       "      <td>0</td>\n",
       "      <td>0</td>\n",
       "      <td>108.9000</td>\n",
       "      <td>1</td>\n",
       "      <td>0</td>\n",
       "      <td>0</td>\n",
       "      <td>0</td>\n",
       "      <td>0</td>\n",
       "      <td>0</td>\n",
       "      <td>...</td>\n",
       "      <td>0</td>\n",
       "      <td>1</td>\n",
       "      <td>0</td>\n",
       "      <td>0</td>\n",
       "      <td>0</td>\n",
       "      <td>0</td>\n",
       "      <td>0</td>\n",
       "      <td>0</td>\n",
       "      <td>1</td>\n",
       "      <td>0</td>\n",
       "    </tr>\n",
       "    <tr>\n",
       "      <td>415</td>\n",
       "      <td>38.5</td>\n",
       "      <td>0</td>\n",
       "      <td>0</td>\n",
       "      <td>7.2500</td>\n",
       "      <td>0</td>\n",
       "      <td>0</td>\n",
       "      <td>1</td>\n",
       "      <td>0</td>\n",
       "      <td>1</td>\n",
       "      <td>0</td>\n",
       "      <td>...</td>\n",
       "      <td>0</td>\n",
       "      <td>0</td>\n",
       "      <td>0</td>\n",
       "      <td>0</td>\n",
       "      <td>0</td>\n",
       "      <td>0</td>\n",
       "      <td>0</td>\n",
       "      <td>1</td>\n",
       "      <td>0</td>\n",
       "      <td>1</td>\n",
       "    </tr>\n",
       "    <tr>\n",
       "      <td>416</td>\n",
       "      <td>28.5</td>\n",
       "      <td>0</td>\n",
       "      <td>0</td>\n",
       "      <td>8.0500</td>\n",
       "      <td>0</td>\n",
       "      <td>0</td>\n",
       "      <td>1</td>\n",
       "      <td>0</td>\n",
       "      <td>1</td>\n",
       "      <td>0</td>\n",
       "      <td>...</td>\n",
       "      <td>0</td>\n",
       "      <td>0</td>\n",
       "      <td>0</td>\n",
       "      <td>0</td>\n",
       "      <td>0</td>\n",
       "      <td>0</td>\n",
       "      <td>0</td>\n",
       "      <td>1</td>\n",
       "      <td>0</td>\n",
       "      <td>1</td>\n",
       "    </tr>\n",
       "    <tr>\n",
       "      <td>417</td>\n",
       "      <td>7.0</td>\n",
       "      <td>1</td>\n",
       "      <td>1</td>\n",
       "      <td>22.3583</td>\n",
       "      <td>0</td>\n",
       "      <td>0</td>\n",
       "      <td>1</td>\n",
       "      <td>0</td>\n",
       "      <td>0</td>\n",
       "      <td>1</td>\n",
       "      <td>...</td>\n",
       "      <td>0</td>\n",
       "      <td>0</td>\n",
       "      <td>0</td>\n",
       "      <td>0</td>\n",
       "      <td>0</td>\n",
       "      <td>0</td>\n",
       "      <td>0</td>\n",
       "      <td>1</td>\n",
       "      <td>0</td>\n",
       "      <td>1</td>\n",
       "    </tr>\n",
       "  </tbody>\n",
       "</table>\n",
       "<p>1309 rows × 25 columns</p>\n",
       "</div>"
      ],
      "text/plain": [
       "      Age  SibSp  Parch      Fare  Pclass_1  Pclass_2  Pclass_3  Embarked_Q  \\\n",
       "0    22.0      1      0    7.2500         0         0         1           0   \n",
       "1    38.0      1      0   71.2833         1         0         0           0   \n",
       "2    26.0      0      0    7.9250         0         0         1           0   \n",
       "3    35.0      1      0   53.1000         1         0         0           0   \n",
       "4    35.0      0      0    8.0500         0         0         1           0   \n",
       "..    ...    ...    ...       ...       ...       ...       ...         ...   \n",
       "413  28.5      0      0    8.0500         0         0         1           0   \n",
       "414  39.0      0      0  108.9000         1         0         0           0   \n",
       "415  38.5      0      0    7.2500         0         0         1           0   \n",
       "416  28.5      0      0    8.0500         0         0         1           0   \n",
       "417   7.0      1      1   22.3583         0         0         1           0   \n",
       "\n",
       "     Embarked_S  Title_Master  ...  Deck_B  Deck_C  Deck_D  Deck_E  Deck_F  \\\n",
       "0             1             0  ...       0       0       0       0       0   \n",
       "1             0             0  ...       0       1       0       0       0   \n",
       "2             1             0  ...       0       0       0       0       0   \n",
       "3             1             0  ...       0       1       0       0       0   \n",
       "4             1             0  ...       0       0       0       0       0   \n",
       "..          ...           ...  ...     ...     ...     ...     ...     ...   \n",
       "413           1             0  ...       0       0       0       0       0   \n",
       "414           0             0  ...       0       1       0       0       0   \n",
       "415           1             0  ...       0       0       0       0       0   \n",
       "416           1             0  ...       0       0       0       0       0   \n",
       "417           0             1  ...       0       0       0       0       0   \n",
       "\n",
       "     Deck_G  Deck_T  Deck_U  Sex_female  Sex_male  \n",
       "0         0       0       1           0         1  \n",
       "1         0       0       0           1         0  \n",
       "2         0       0       1           1         0  \n",
       "3         0       0       0           1         0  \n",
       "4         0       0       1           0         1  \n",
       "..      ...     ...     ...         ...       ...  \n",
       "413       0       0       1           0         1  \n",
       "414       0       0       0           1         0  \n",
       "415       0       0       1           0         1  \n",
       "416       0       0       1           0         1  \n",
       "417       0       0       1           0         1  \n",
       "\n",
       "[1309 rows x 25 columns]"
      ]
     },
     "execution_count": 43,
     "metadata": {},
     "output_type": "execute_result"
    }
   ],
   "source": [
    "X"
   ]
  },
  {
   "cell_type": "code",
   "execution_count": 44,
   "metadata": {},
   "outputs": [],
   "source": [
    "X_train = X.iloc[:len(y_train),:]"
   ]
  },
  {
   "cell_type": "code",
   "execution_count": 45,
   "metadata": {},
   "outputs": [],
   "source": [
    "X_test = X.iloc[len(y_train):,:]\n"
   ]
  },
  {
   "cell_type": "code",
   "execution_count": 46,
   "metadata": {},
   "outputs": [
    {
     "data": {
      "text/plain": [
       "(891, 25)"
      ]
     },
     "execution_count": 46,
     "metadata": {},
     "output_type": "execute_result"
    }
   ],
   "source": [
    "X_train.shape"
   ]
  },
  {
   "cell_type": "markdown",
   "metadata": {},
   "source": [
    "#### Splitting into Training and Validation set"
   ]
  },
  {
   "cell_type": "code",
   "execution_count": 47,
   "metadata": {},
   "outputs": [],
   "source": [
    "from sklearn.model_selection import train_test_split\n",
    "X_train, X_val, y_train, y_val = train_test_split(X_train, y_train, test_size = 0.25, random_state = 47)\n"
   ]
  },
  {
   "cell_type": "markdown",
   "metadata": {},
   "source": [
    "#### Feature Scaling"
   ]
  },
  {
   "cell_type": "code",
   "execution_count": 48,
   "metadata": {},
   "outputs": [],
   "source": [
    "from sklearn.preprocessing import StandardScaler\n",
    "sc = StandardScaler()\n",
    "X_train_s = sc.fit_transform(X_train)\n",
    "X_val_s = sc.transform(X_val)\n",
    "X_test_s = sc.transform(X_test)"
   ]
  },
  {
   "cell_type": "markdown",
   "metadata": {},
   "source": [
    "## Fitting the Model\n",
    "### Importing the Libraries"
   ]
  },
  {
   "cell_type": "code",
   "execution_count": 49,
   "metadata": {},
   "outputs": [
    {
     "name": "stderr",
     "output_type": "stream",
     "text": [
      "Using TensorFlow backend.\n"
     ]
    }
   ],
   "source": [
    "# Importing SVM\n",
    "from sklearn.svm import SVC\n",
    "# Importing Naive Bayes\n",
    "from sklearn.naive_bayes import GaussianNB\n",
    "# Importing Decision Tree\n",
    "from sklearn.tree import DecisionTreeClassifier\n",
    "# Importing RandomForest Classifier\n",
    "from sklearn.ensemble import RandomForestClassifier\n",
    "# Importing Keras Libararies \n",
    "import keras\n",
    "from keras.models import Sequential # to initialise NN\n",
    "from keras.layers import Dense #  To Build Layers\n",
    "# Importing XGBoost\n",
    "from xgboost import XGBClassifier\n",
    "# Importing Confusion Matrix\n",
    "from sklearn.metrics import confusion_matrix\n",
    "import warnings\n",
    "warnings.filterwarnings('ignore')\n",
    "\n"
   ]
  },
  {
   "cell_type": "markdown",
   "metadata": {},
   "source": [
    "#### Kernel SVM"
   ]
  },
  {
   "cell_type": "code",
   "execution_count": 50,
   "metadata": {},
   "outputs": [
    {
     "data": {
      "text/plain": [
       "SVC(C=1.0, cache_size=200, class_weight=None, coef0=0.0,\n",
       "    decision_function_shape='ovr', degree=3, gamma='auto_deprecated',\n",
       "    kernel='rbf', max_iter=-1, probability=False, random_state=0,\n",
       "    shrinking=True, tol=0.001, verbose=False)"
      ]
     },
     "execution_count": 50,
     "metadata": {},
     "output_type": "execute_result"
    }
   ],
   "source": [
    "Classifier_SVC = SVC(kernel = 'rbf', random_state = 0)\n",
    "Classifier_SVC.fit(X_train_s,y_train)\n"
   ]
  },
  {
   "cell_type": "code",
   "execution_count": 51,
   "metadata": {},
   "outputs": [],
   "source": [
    "y_pred_svc = Classifier_SVC.predict(X_val_s)"
   ]
  },
  {
   "cell_type": "code",
   "execution_count": 52,
   "metadata": {},
   "outputs": [],
   "source": [
    "cm_svc = confusion_matrix(y_val,y_pred_svc)"
   ]
  },
  {
   "cell_type": "code",
   "execution_count": 53,
   "metadata": {},
   "outputs": [
    {
     "name": "stdout",
     "output_type": "stream",
     "text": [
      "Accuracy from SVC : 0.8026905829596412\n",
      "Precision from SVC: 0.873015873015873\n",
      "Recall from SVC: 0.6043956043956044\n",
      "F1 Score from SVC: 0.7142857142857142\n"
     ]
    }
   ],
   "source": [
    "from sklearn.metrics import accuracy_score\n",
    "from sklearn.metrics import f1_score\n",
    "from sklearn.metrics import precision_score\n",
    "from sklearn.metrics import recall_score\n",
    "\n",
    "print('Accuracy from SVC :',accuracy_score(y_val,y_pred_svc))\n",
    "print('Precision from SVC:',precision_score(y_val,y_pred_svc))\n",
    "#print('Precision from SVC:',cm_svc[0,0]/(cm_svc[0,0]+cm_svc[0,1]))\n",
    "print('Recall from SVC:',recall_score(y_val,y_pred_svc))\n",
    "print('F1 Score from SVC:',f1_score(y_val,y_pred_svc))"
   ]
  },
  {
   "cell_type": "markdown",
   "metadata": {},
   "source": [
    "#### Naive Bayes Classifier "
   ]
  },
  {
   "cell_type": "code",
   "execution_count": 54,
   "metadata": {},
   "outputs": [
    {
     "data": {
      "text/plain": [
       "GaussianNB(priors=None, var_smoothing=1e-09)"
      ]
     },
     "execution_count": 54,
     "metadata": {},
     "output_type": "execute_result"
    }
   ],
   "source": [
    "Classifier_NB = GaussianNB()\n",
    "Classifier_NB.fit(X_train_s,y_train)\n"
   ]
  },
  {
   "cell_type": "code",
   "execution_count": 55,
   "metadata": {},
   "outputs": [],
   "source": [
    "y_pred_NB = Classifier_NB.predict(X_val_s)"
   ]
  },
  {
   "cell_type": "code",
   "execution_count": 56,
   "metadata": {},
   "outputs": [],
   "source": [
    "cm_NB = confusion_matrix(y_val,y_pred_NB)"
   ]
  },
  {
   "cell_type": "code",
   "execution_count": 57,
   "metadata": {},
   "outputs": [
    {
     "name": "stdout",
     "output_type": "stream",
     "text": [
      "Accuracy from NB : 0.7937219730941704\n",
      "Precision from NB: 0.7227722772277227\n",
      "Recall from NB: 0.8021978021978022\n",
      "F1 Score from NB: 0.7604166666666667\n"
     ]
    }
   ],
   "source": [
    "print('Accuracy from NB :',accuracy_score(y_val,y_pred_NB))\n",
    "print('Precision from NB:',precision_score(y_val,y_pred_NB))\n",
    "print('Recall from NB:',recall_score(y_val,y_pred_NB))\n",
    "print('F1 Score from NB:',f1_score(y_val,y_pred_NB))"
   ]
  },
  {
   "cell_type": "markdown",
   "metadata": {},
   "source": [
    "#### Decision Tree"
   ]
  },
  {
   "cell_type": "code",
   "execution_count": 58,
   "metadata": {},
   "outputs": [
    {
     "data": {
      "text/plain": [
       "DecisionTreeClassifier(class_weight=None, criterion='entropy', max_depth=None,\n",
       "                       max_features=None, max_leaf_nodes=None,\n",
       "                       min_impurity_decrease=0.0, min_impurity_split=None,\n",
       "                       min_samples_leaf=1, min_samples_split=2,\n",
       "                       min_weight_fraction_leaf=0.0, presort=False,\n",
       "                       random_state=None, splitter='best')"
      ]
     },
     "execution_count": 58,
     "metadata": {},
     "output_type": "execute_result"
    }
   ],
   "source": [
    "Classifier_DT = DecisionTreeClassifier(criterion='entropy')\n",
    "Classifier_DT.fit(X_train_s,y_train)\n"
   ]
  },
  {
   "cell_type": "code",
   "execution_count": 59,
   "metadata": {},
   "outputs": [],
   "source": [
    "y_pred_DT = Classifier_NB.predict(X_val_s)"
   ]
  },
  {
   "cell_type": "code",
   "execution_count": 60,
   "metadata": {},
   "outputs": [],
   "source": [
    "cm_DT = confusion_matrix(y_val,y_pred_DT)"
   ]
  },
  {
   "cell_type": "code",
   "execution_count": 61,
   "metadata": {},
   "outputs": [
    {
     "name": "stdout",
     "output_type": "stream",
     "text": [
      "Accuracy from DT : 0.7937219730941704\n",
      "Precision from DT: 0.7227722772277227\n",
      "Recall from DT: 0.8021978021978022\n",
      "F1 Score from DT: 0.7604166666666667\n"
     ]
    }
   ],
   "source": [
    "print('Accuracy from DT :',accuracy_score(y_val,y_pred_DT))\n",
    "print('Precision from DT:',precision_score(y_val,y_pred_DT))\n",
    "print('Recall from DT:',recall_score(y_val,y_pred_DT))\n",
    "print('F1 Score from DT:',f1_score(y_val,y_pred_DT))"
   ]
  },
  {
   "cell_type": "markdown",
   "metadata": {},
   "source": [
    "#### Random Forest"
   ]
  },
  {
   "cell_type": "code",
   "execution_count": 62,
   "metadata": {},
   "outputs": [
    {
     "data": {
      "text/plain": [
       "RandomForestClassifier(bootstrap=True, class_weight=None, criterion='gini',\n",
       "                       max_depth=None, max_features=21, max_leaf_nodes=None,\n",
       "                       min_impurity_decrease=0.0, min_impurity_split=None,\n",
       "                       min_samples_leaf=1, min_samples_split=2,\n",
       "                       min_weight_fraction_leaf=0.0, n_estimators=10,\n",
       "                       n_jobs=None, oob_score=False, random_state=47, verbose=0,\n",
       "                       warm_start=False)"
      ]
     },
     "execution_count": 62,
     "metadata": {},
     "output_type": "execute_result"
    }
   ],
   "source": [
    "Classifier_RF = RandomForestClassifier(n_estimators = 10,random_state=47,max_features=21)\n",
    "Classifier_RF.fit(X_train_s,y_train)\n"
   ]
  },
  {
   "cell_type": "code",
   "execution_count": 63,
   "metadata": {},
   "outputs": [],
   "source": [
    "y_pred_RF = Classifier_NB.predict(X_val_s)"
   ]
  },
  {
   "cell_type": "code",
   "execution_count": 64,
   "metadata": {},
   "outputs": [],
   "source": [
    "cm_RF = confusion_matrix(y_val,y_pred_RF)"
   ]
  },
  {
   "cell_type": "code",
   "execution_count": 65,
   "metadata": {},
   "outputs": [
    {
     "name": "stdout",
     "output_type": "stream",
     "text": [
      "Accuracy from RF : 0.7937219730941704\n",
      "Precision from RF: 0.7227722772277227\n",
      "Recall from RF: 0.8021978021978022\n",
      "F1 Score from RF: 0.7604166666666667\n"
     ]
    }
   ],
   "source": [
    "print('Accuracy from RF :',accuracy_score(y_val,y_pred_RF))\n",
    "print('Precision from RF:',precision_score(y_val,y_pred_RF))\n",
    "print('Recall from RF:',recall_score(y_val,y_pred_RF))\n",
    "print('F1 Score from RF:',f1_score(y_val,y_pred_RF))"
   ]
  },
  {
   "cell_type": "markdown",
   "metadata": {},
   "source": [
    "#### Artificial Neural Networks"
   ]
  },
  {
   "cell_type": "code",
   "execution_count": 66,
   "metadata": {},
   "outputs": [
    {
     "name": "stdout",
     "output_type": "stream",
     "text": [
      "Epoch 1/100\n",
      "668/668 [==============================] - 0s 612us/step - loss: 0.6812 - accuracy: 0.6243\n",
      "Epoch 2/100\n",
      "668/668 [==============================] - 0s 127us/step - loss: 0.5688 - accuracy: 0.7949\n",
      "Epoch 3/100\n",
      "668/668 [==============================] - 0s 287us/step - loss: 0.4525 - accuracy: 0.8174\n",
      "Epoch 4/100\n",
      "668/668 [==============================] - 0s 134us/step - loss: 0.4136 - accuracy: 0.8338\n",
      "Epoch 5/100\n",
      "668/668 [==============================] - 0s 124us/step - loss: 0.3999 - accuracy: 0.8413\n",
      "Epoch 6/100\n",
      "668/668 [==============================] - 0s 115us/step - loss: 0.3893 - accuracy: 0.8413\n",
      "Epoch 7/100\n",
      "668/668 [==============================] - 0s 113us/step - loss: 0.3831 - accuracy: 0.8503\n",
      "Epoch 8/100\n",
      "668/668 [==============================] - 0s 125us/step - loss: 0.3777 - accuracy: 0.8518\n",
      "Epoch 9/100\n",
      "668/668 [==============================] - 0s 122us/step - loss: 0.3747 - accuracy: 0.8518\n",
      "Epoch 10/100\n",
      "668/668 [==============================] - 0s 121us/step - loss: 0.3706 - accuracy: 0.8428\n",
      "Epoch 11/100\n",
      "668/668 [==============================] - 0s 191us/step - loss: 0.3676 - accuracy: 0.8458\n",
      "Epoch 12/100\n",
      "668/668 [==============================] - 0s 175us/step - loss: 0.3654 - accuracy: 0.8503\n",
      "Epoch 13/100\n",
      "668/668 [==============================] - 0s 128us/step - loss: 0.3631 - accuracy: 0.8488\n",
      "Epoch 14/100\n",
      "668/668 [==============================] - 0s 146us/step - loss: 0.3617 - accuracy: 0.8548\n",
      "Epoch 15/100\n",
      "668/668 [==============================] - 0s 249us/step - loss: 0.3606 - accuracy: 0.8548\n",
      "Epoch 16/100\n",
      "668/668 [==============================] - 0s 154us/step - loss: 0.3585 - accuracy: 0.8533\n",
      "Epoch 17/100\n",
      "668/668 [==============================] - 0s 116us/step - loss: 0.3572 - accuracy: 0.8563\n",
      "Epoch 18/100\n",
      "668/668 [==============================] - 0s 136us/step - loss: 0.3560 - accuracy: 0.8548\n",
      "Epoch 19/100\n",
      "668/668 [==============================] - 0s 198us/step - loss: 0.3562 - accuracy: 0.8533\n",
      "Epoch 20/100\n",
      "668/668 [==============================] - 0s 164us/step - loss: 0.3541 - accuracy: 0.8548\n",
      "Epoch 21/100\n",
      "668/668 [==============================] - 0s 149us/step - loss: 0.3533 - accuracy: 0.8533\n",
      "Epoch 22/100\n",
      "668/668 [==============================] - 0s 137us/step - loss: 0.3523 - accuracy: 0.8593\n",
      "Epoch 23/100\n",
      "668/668 [==============================] - 0s 125us/step - loss: 0.3495 - accuracy: 0.8563\n",
      "Epoch 24/100\n",
      "668/668 [==============================] - 0s 127us/step - loss: 0.3507 - accuracy: 0.8563\n",
      "Epoch 25/100\n",
      "668/668 [==============================] - 0s 193us/step - loss: 0.3484 - accuracy: 0.8578\n",
      "Epoch 26/100\n",
      "668/668 [==============================] - 0s 133us/step - loss: 0.3491 - accuracy: 0.8593\n",
      "Epoch 27/100\n",
      "668/668 [==============================] - 0s 118us/step - loss: 0.3461 - accuracy: 0.8638\n",
      "Epoch 28/100\n",
      "668/668 [==============================] - 0s 110us/step - loss: 0.3462 - accuracy: 0.8578\n",
      "Epoch 29/100\n",
      "668/668 [==============================] - 0s 134us/step - loss: 0.3432 - accuracy: 0.8623\n",
      "Epoch 30/100\n",
      "668/668 [==============================] - 0s 203us/step - loss: 0.3428 - accuracy: 0.8608\n",
      "Epoch 31/100\n",
      "668/668 [==============================] - 0s 136us/step - loss: 0.3435 - accuracy: 0.8578\n",
      "Epoch 32/100\n",
      "668/668 [==============================] - 0s 142us/step - loss: 0.3425 - accuracy: 0.8623\n",
      "Epoch 33/100\n",
      "668/668 [==============================] - 0s 113us/step - loss: 0.3403 - accuracy: 0.8638\n",
      "Epoch 34/100\n",
      "668/668 [==============================] - 0s 122us/step - loss: 0.3413 - accuracy: 0.8608\n",
      "Epoch 35/100\n",
      "668/668 [==============================] - 0s 116us/step - loss: 0.3408 - accuracy: 0.8668\n",
      "Epoch 36/100\n",
      "668/668 [==============================] - 0s 121us/step - loss: 0.3379 - accuracy: 0.8608\n",
      "Epoch 37/100\n",
      "668/668 [==============================] - 0s 194us/step - loss: 0.3375 - accuracy: 0.8623\n",
      "Epoch 38/100\n",
      "668/668 [==============================] - 0s 131us/step - loss: 0.3381 - accuracy: 0.8668\n",
      "Epoch 39/100\n",
      "668/668 [==============================] - 0s 251us/step - loss: 0.3372 - accuracy: 0.8608\n",
      "Epoch 40/100\n",
      "668/668 [==============================] - 0s 225us/step - loss: 0.3349 - accuracy: 0.8713\n",
      "Epoch 41/100\n",
      "668/668 [==============================] - 0s 128us/step - loss: 0.3340 - accuracy: 0.8653\n",
      "Epoch 42/100\n",
      "668/668 [==============================] - 0s 164us/step - loss: 0.3339 - accuracy: 0.8683\n",
      "Epoch 43/100\n",
      "668/668 [==============================] - 0s 121us/step - loss: 0.3325 - accuracy: 0.8638\n",
      "Epoch 44/100\n",
      "668/668 [==============================] - 0s 128us/step - loss: 0.3329 - accuracy: 0.8668\n",
      "Epoch 45/100\n",
      "668/668 [==============================] - 0s 118us/step - loss: 0.3327 - accuracy: 0.8653\n",
      "Epoch 46/100\n",
      "668/668 [==============================] - 0s 151us/step - loss: 0.3312 - accuracy: 0.8638\n",
      "Epoch 47/100\n",
      "668/668 [==============================] - 0s 225us/step - loss: 0.3290 - accuracy: 0.8698\n",
      "Epoch 48/100\n",
      "668/668 [==============================] - 0s 152us/step - loss: 0.3288 - accuracy: 0.8698\n",
      "Epoch 49/100\n",
      "668/668 [==============================] - 0s 160us/step - loss: 0.3295 - accuracy: 0.8683\n",
      "Epoch 50/100\n",
      "668/668 [==============================] - 0s 115us/step - loss: 0.3279 - accuracy: 0.8683\n",
      "Epoch 51/100\n",
      "668/668 [==============================] - 0s 137us/step - loss: 0.3266 - accuracy: 0.8713\n",
      "Epoch 52/100\n",
      "668/668 [==============================] - 0s 167us/step - loss: 0.3275 - accuracy: 0.8698\n",
      "Epoch 53/100\n",
      "668/668 [==============================] - 0s 122us/step - loss: 0.3255 - accuracy: 0.8713\n",
      "Epoch 54/100\n",
      "668/668 [==============================] - 0s 128us/step - loss: 0.3253 - accuracy: 0.8728\n",
      "Epoch 55/100\n",
      "668/668 [==============================] - 0s 113us/step - loss: 0.3243 - accuracy: 0.8653\n",
      "Epoch 56/100\n",
      "668/668 [==============================] - 0s 148us/step - loss: 0.3237 - accuracy: 0.8698\n",
      "Epoch 57/100\n",
      "668/668 [==============================] - 0s 182us/step - loss: 0.3230 - accuracy: 0.8698\n",
      "Epoch 58/100\n",
      "668/668 [==============================] - 0s 249us/step - loss: 0.3212 - accuracy: 0.8683\n",
      "Epoch 59/100\n",
      "668/668 [==============================] - 0s 109us/step - loss: 0.3196 - accuracy: 0.8698\n",
      "Epoch 60/100\n",
      "668/668 [==============================] - 0s 142us/step - loss: 0.3221 - accuracy: 0.8728\n",
      "Epoch 61/100\n",
      "668/668 [==============================] - 0s 154us/step - loss: 0.3204 - accuracy: 0.8683\n",
      "Epoch 62/100\n",
      "668/668 [==============================] - 0s 97us/step - loss: 0.3199 - accuracy: 0.8713\n",
      "Epoch 63/100\n",
      "668/668 [==============================] - 0s 102us/step - loss: 0.3183 - accuracy: 0.8743\n",
      "Epoch 64/100\n",
      "668/668 [==============================] - 0s 113us/step - loss: 0.3172 - accuracy: 0.8728\n",
      "Epoch 65/100\n",
      "668/668 [==============================] - 0s 102us/step - loss: 0.3169 - accuracy: 0.8728\n",
      "Epoch 66/100\n",
      "668/668 [==============================] - 0s 104us/step - loss: 0.3170 - accuracy: 0.8728\n",
      "Epoch 67/100\n",
      "668/668 [==============================] - 0s 109us/step - loss: 0.3156 - accuracy: 0.8713\n",
      "Epoch 68/100\n",
      "668/668 [==============================] - 0s 120us/step - loss: 0.3161 - accuracy: 0.8757\n",
      "Epoch 69/100\n",
      "668/668 [==============================] - 0s 156us/step - loss: 0.3169 - accuracy: 0.8713\n",
      "Epoch 70/100\n",
      "668/668 [==============================] - 0s 136us/step - loss: 0.3159 - accuracy: 0.8757\n",
      "Epoch 71/100\n",
      "668/668 [==============================] - 0s 222us/step - loss: 0.3145 - accuracy: 0.8757\n",
      "Epoch 72/100\n",
      "668/668 [==============================] - 0s 151us/step - loss: 0.3142 - accuracy: 0.8713\n",
      "Epoch 73/100\n",
      "668/668 [==============================] - 0s 106us/step - loss: 0.3139 - accuracy: 0.8772\n",
      "Epoch 74/100\n",
      "668/668 [==============================] - 0s 105us/step - loss: 0.3113 - accuracy: 0.8802\n",
      "Epoch 75/100\n",
      "668/668 [==============================] - 0s 112us/step - loss: 0.3096 - accuracy: 0.8757\n",
      "Epoch 76/100\n",
      "668/668 [==============================] - 0s 140us/step - loss: 0.3116 - accuracy: 0.8683\n",
      "Epoch 77/100\n",
      "668/668 [==============================] - 0s 151us/step - loss: 0.3070 - accuracy: 0.8787\n",
      "Epoch 78/100\n",
      "668/668 [==============================] - 0s 102us/step - loss: 0.3084 - accuracy: 0.8743\n",
      "Epoch 79/100\n"
     ]
    },
    {
     "name": "stdout",
     "output_type": "stream",
     "text": [
      "668/668 [==============================] - 0s 106us/step - loss: 0.3087 - accuracy: 0.8772\n",
      "Epoch 80/100\n",
      "668/668 [==============================] - 0s 109us/step - loss: 0.3072 - accuracy: 0.8802\n",
      "Epoch 81/100\n",
      "668/668 [==============================] - 0s 107us/step - loss: 0.3055 - accuracy: 0.8802\n",
      "Epoch 82/100\n",
      "668/668 [==============================] - 0s 124us/step - loss: 0.3052 - accuracy: 0.8862\n",
      "Epoch 83/100\n",
      "668/668 [==============================] - 0s 208us/step - loss: 0.3055 - accuracy: 0.8743\n",
      "Epoch 84/100\n",
      "668/668 [==============================] - 0s 249us/step - loss: 0.3051 - accuracy: 0.8757\n",
      "Epoch 85/100\n",
      "668/668 [==============================] - 0s 228us/step - loss: 0.3036 - accuracy: 0.8802\n",
      "Epoch 86/100\n",
      "668/668 [==============================] - 0s 131us/step - loss: 0.3034 - accuracy: 0.8817\n",
      "Epoch 87/100\n",
      "668/668 [==============================] - 0s 147us/step - loss: 0.3044 - accuracy: 0.8802\n",
      "Epoch 88/100\n",
      "668/668 [==============================] - 0s 175us/step - loss: 0.3020 - accuracy: 0.8817\n",
      "Epoch 89/100\n",
      "668/668 [==============================] - 0s 128us/step - loss: 0.3019 - accuracy: 0.8847\n",
      "Epoch 90/100\n",
      "668/668 [==============================] - 0s 128us/step - loss: 0.3019 - accuracy: 0.8832\n",
      "Epoch 91/100\n",
      "668/668 [==============================] - 0s 136us/step - loss: 0.3039 - accuracy: 0.8817\n",
      "Epoch 92/100\n",
      "668/668 [==============================] - 0s 124us/step - loss: 0.3000 - accuracy: 0.8817\n",
      "Epoch 93/100\n",
      "668/668 [==============================] - 0s 314us/step - loss: 0.3005 - accuracy: 0.8802\n",
      "Epoch 94/100\n",
      "668/668 [==============================] - 0s 118us/step - loss: 0.3010 - accuracy: 0.8862\n",
      "Epoch 95/100\n",
      "668/668 [==============================] - 0s 103us/step - loss: 0.3012 - accuracy: 0.8847\n",
      "Epoch 96/100\n",
      "668/668 [==============================] - 0s 103us/step - loss: 0.3004 - accuracy: 0.8817\n",
      "Epoch 97/100\n",
      "668/668 [==============================] - 0s 113us/step - loss: 0.2983 - accuracy: 0.8832\n",
      "Epoch 98/100\n",
      "668/668 [==============================] - 0s 187us/step - loss: 0.2983 - accuracy: 0.8802\n",
      "Epoch 99/100\n",
      "668/668 [==============================] - 0s 193us/step - loss: 0.3000 - accuracy: 0.8832\n",
      "Epoch 100/100\n",
      "668/668 [==============================] - 0s 146us/step - loss: 0.2959 - accuracy: 0.8847\n"
     ]
    },
    {
     "data": {
      "text/plain": [
       "<keras.callbacks.callbacks.History at 0x2bcda75cdc8>"
      ]
     },
     "execution_count": 66,
     "metadata": {},
     "output_type": "execute_result"
    }
   ],
   "source": [
    "# Initialising the ANN !\n",
    "Classifier = Sequential()\n",
    "\n",
    "# Adding the input layer and the first hidden layer\n",
    "Classifier.add(Dense(output_dim=13,init = 'uniform',activation='relu',input_dim=25))\n",
    "\n",
    "# Adding the Second hidden Layer\n",
    "Classifier.add(Dense(output_dim=13,init = 'uniform',activation='relu')) # No I/P Dim for 2nd layer\n",
    "\n",
    "# Adding final and output Layer\n",
    "Classifier.add(Dense(output_dim=1,init = 'uniform',activation='sigmoid')) # O/P Dim 1 for classification problem\n",
    "                         # Number of Categories         # For probabilities\n",
    "\n",
    "\n",
    "# Compiling the ANN\n",
    "Classifier.compile(optimizer='adam', loss='binary_crossentropy',metrics=['accuracy'])                         \n",
    "\n",
    "# Fitting the ANN to the training set\n",
    "Classifier.fit(X_train_s,y_train,batch_size=10,epochs=100) # Adding batch Size and Epochs\n",
    " \n"
   ]
  },
  {
   "cell_type": "code",
   "execution_count": 67,
   "metadata": {},
   "outputs": [],
   "source": [
    "# Predicting the Test set results\n",
    "y_pred = Classifier.predict(X_val_s)\n",
    "y_pred=(y_pred>0.5)\n"
   ]
  },
  {
   "cell_type": "code",
   "execution_count": 68,
   "metadata": {},
   "outputs": [],
   "source": [
    "def boolstr_to_floatstr(y_pred):\n",
    "    if y_pred == 'True':\n",
    "        return '1'\n",
    "    elif y_pred == 'False':\n",
    "        return '0'\n",
    "    else:\n",
    "        return y_pred\n",
    "    \n",
    "y_pred = np.vectorize(boolstr_to_floatstr)(y_pred).astype(int)\n"
   ]
  },
  {
   "cell_type": "code",
   "execution_count": 69,
   "metadata": {},
   "outputs": [],
   "source": [
    "cm_ANN = confusion_matrix(y_val,y_pred)"
   ]
  },
  {
   "cell_type": "code",
   "execution_count": 70,
   "metadata": {},
   "outputs": [
    {
     "name": "stdout",
     "output_type": "stream",
     "text": [
      "Accuracy from ANN : 0.820627802690583\n",
      "Precision from ANN: 0.8591549295774648\n",
      "Recall from ANN: 0.6703296703296703\n",
      "F1 Score from ANN: 0.7530864197530862\n"
     ]
    }
   ],
   "source": [
    "print('Accuracy from ANN :',accuracy_score(y_val,y_pred))\n",
    "print('Precision from ANN:',precision_score(y_val,y_pred))\n",
    "print('Recall from ANN:',recall_score(y_val,y_pred))\n",
    "print('F1 Score from ANN:',f1_score(y_val,y_pred))"
   ]
  },
  {
   "cell_type": "markdown",
   "metadata": {},
   "source": [
    "#### XG Boost"
   ]
  },
  {
   "cell_type": "code",
   "execution_count": 71,
   "metadata": {},
   "outputs": [
    {
     "data": {
      "text/plain": [
       "XGBClassifier(base_score=0.5, booster='gbtree', colsample_bylevel=1,\n",
       "              colsample_bynode=1, colsample_bytree=1, gamma=0,\n",
       "              learning_rate=0.1, max_delta_step=0, max_depth=3,\n",
       "              min_child_weight=1, missing=None, n_estimators=250, n_jobs=1,\n",
       "              nthread=None, objective='binary:logistic', random_state=0,\n",
       "              reg_alpha=0, reg_lambda=1, scale_pos_weight=1, seed=None,\n",
       "              silent=None, subsample=1, verbosity=1)"
      ]
     },
     "execution_count": 71,
     "metadata": {},
     "output_type": "execute_result"
    }
   ],
   "source": [
    "Classifier_XGB = XGBClassifier(n_estimators=250)\n",
    "Classifier_XGB.fit(X_train, y_train)"
   ]
  },
  {
   "cell_type": "code",
   "execution_count": 72,
   "metadata": {},
   "outputs": [],
   "source": [
    "y_pred_XGB = Classifier_XGB.predict(X_val)"
   ]
  },
  {
   "cell_type": "code",
   "execution_count": 73,
   "metadata": {},
   "outputs": [],
   "source": [
    "cm_XGB = confusion_matrix(y_val,y_pred_XGB)"
   ]
  },
  {
   "cell_type": "code",
   "execution_count": 74,
   "metadata": {},
   "outputs": [
    {
     "name": "stdout",
     "output_type": "stream",
     "text": [
      "Accuracy from XGB : 0.8071748878923767\n",
      "Precision from XGB: 0.7926829268292683\n",
      "Recall from XGB: 0.7142857142857143\n",
      "F1 Score from XGB: 0.7514450867052024\n"
     ]
    }
   ],
   "source": [
    "print('Accuracy from XGB :',accuracy_score(y_val,y_pred_XGB))\n",
    "print('Precision from XGB:',precision_score(y_val,y_pred_XGB))\n",
    "print('Recall from XGB:',recall_score(y_val,y_pred_XGB))\n",
    "print('F1 Score from XGB:',f1_score(y_val,y_pred_XGB))"
   ]
  },
  {
   "cell_type": "code",
   "execution_count": 80,
   "metadata": {},
   "outputs": [],
   "source": [
    "y = Classifier_XGB.predict(X_test)"
   ]
  },
  {
   "cell_type": "code",
   "execution_count": 76,
   "metadata": {},
   "outputs": [],
   "source": [
    "test = pd.read_csv(r'C:\\Users\\Vijay Krishna\\Desktop\\ML\\Kaggle\\Classification\\Titanic\\test.csv')"
   ]
  },
  {
   "cell_type": "code",
   "execution_count": 81,
   "metadata": {},
   "outputs": [],
   "source": [
    "\n",
    "submission = pd.DataFrame({\n",
    "        'PassengerId': test['PassengerId'],\n",
    "        \"Survived\": y\n",
    "    })\n",
    "submission.to_csv('Titanic_XGB.csv',header=True, index=False)"
   ]
  }
 ],
 "metadata": {
  "kernelspec": {
   "display_name": "Python 3",
   "language": "python",
   "name": "python3"
  },
  "language_info": {
   "codemirror_mode": {
    "name": "ipython",
    "version": 3
   },
   "file_extension": ".py",
   "mimetype": "text/x-python",
   "name": "python",
   "nbconvert_exporter": "python",
   "pygments_lexer": "ipython3",
   "version": "3.7.4"
  }
 },
 "nbformat": 4,
 "nbformat_minor": 2
}
